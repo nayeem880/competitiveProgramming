{
 "cells": [
  {
   "cell_type": "code",
   "execution_count": 5,
   "metadata": {
    "ExecuteTime": {
     "end_time": "2019-12-03T10:57:57.372922Z",
     "start_time": "2019-12-03T10:57:55.128727Z"
    }
   },
   "outputs": [
    {
     "name": "stdout",
     "output_type": "stream",
     "text": [
      "Enter the limit : 100\n",
      "0 1 1 2 3 5 8 13 21 34 55 89 "
     ]
    }
   ],
   "source": [
    "#  fibonacci \n",
    "\n",
    "a, b = 0,1 \n",
    "n = int(input(\"Enter the limit : \"))\n",
    "\n",
    "while a< n :\n",
    "    print(a,end = \" \")\n",
    "    a,b = b, a+b$\n",
    "    "
   ]
  },
  {
   "cell_type": "code",
   "execution_count": 7,
   "metadata": {
    "ExecuteTime": {
     "end_time": "2019-12-03T10:59:34.056950Z",
     "start_time": "2019-12-03T10:59:32.537750Z"
    }
   },
   "outputs": [
    {
     "name": "stdout",
     "output_type": "stream",
     "text": [
      "Enter the limit : 5\n",
      "120\n"
     ]
    }
   ],
   "source": [
    "#  factorial \n",
    "\n",
    "a = 1 \n",
    "n = int(input(\"Enter the limit : \"))\n",
    "\n",
    "for i in range(a,n+1):\n",
    "    a = a*i\n",
    "print(a)\n",
    "    "
   ]
  },
  {
   "cell_type": "code",
   "execution_count": 8,
   "metadata": {
    "ExecuteTime": {
     "end_time": "2019-12-03T11:00:24.001217Z",
     "start_time": "2019-12-03T11:00:23.985249Z"
    }
   },
   "outputs": [
    {
     "data": {
      "text/plain": [
       "3628800"
      ]
     },
     "execution_count": 8,
     "metadata": {},
     "output_type": "execute_result"
    }
   ],
   "source": [
    "#  factorial in recursion\n",
    "\n",
    "def f(n):\n",
    "    if n==1:\n",
    "        return 1\n",
    "    return n*f(n-1)\n",
    "\n",
    "\n",
    "f(10)"
   ]
  },
  {
   "cell_type": "code",
   "execution_count": null,
   "metadata": {
    "ExecuteTime": {
     "start_time": "2019-12-03T11:04:48.761Z"
    }
   },
   "outputs": [],
   "source": [
    "def Fibonacci(n): \n",
    "    if n<0: \n",
    "        print(\"Incorrect input\") \n",
    "    # First Fibonacci number is 0 \n",
    "    elif n==0: \n",
    "        return 0\n",
    "    # Second Fibonacci number is 1 \n",
    "    elif n==1: \n",
    "        return 1\n",
    "    else: \n",
    "        return Fibonacci(n-1)+Fibonacci(n-2) \n",
    "  \n",
    "# Driver Program \n",
    "Fibonacci(100)"
   ]
  },
  {
   "cell_type": "code",
   "execution_count": 2,
   "metadata": {
    "ExecuteTime": {
     "end_time": "2019-12-03T11:08:53.909893Z",
     "start_time": "2019-12-03T11:08:50.649804Z"
    }
   },
   "outputs": [
    {
     "name": "stdout",
     "output_type": "stream",
     "text": [
      "Enter the number for n : 10\n",
      "Enter the number for m : 20\n",
      "n is :  20\n",
      "m is :  10\n"
     ]
    }
   ],
   "source": [
    "# dwap example\n",
    "\n",
    "n = int(input(\"Enter the number for n : \"))\n",
    "m = int(input(\"Enter the number for m : \"))\n",
    "\n",
    "def swap(n,m):\n",
    "    temp = n\n",
    "    n= m\n",
    "    m= temp\n",
    "    print(\"n is : \",n)\n",
    "    print(\"m is : \",m)\n",
    "\n",
    "swap(n,m)\n"
   ]
  },
  {
   "cell_type": "code",
   "execution_count": 13,
   "metadata": {
    "ExecuteTime": {
     "end_time": "2019-12-03T11:19:52.119433Z",
     "start_time": "2019-12-03T11:19:47.433460Z"
    }
   },
   "outputs": [
    {
     "name": "stdout",
     "output_type": "stream",
     "text": [
      "Enter year : 1999\n",
      "Enter month : 12\n",
      "Enter day : 3\n",
      "       December 1999\n",
      "Mon Tue Wed Thu Fri Sat Sun\n",
      "          1   2   3   4   5\n",
      "  6   7   8   9  10  11  12\n",
      " 13  14  15  16  17  18  19\n",
      " 20  21  22  23  24  25  26\n",
      " 27  28  29  30  31\n",
      "\n"
     ]
    }
   ],
   "source": [
    "import calendar \n",
    "\n",
    "y = int(input(\"Enter year : \"))\n",
    "m = int(input(\"Enter month : \"))\n",
    "d = int(input(\"Enter day : \"))\n",
    "\n",
    "\n",
    "print(calendar.month(y,m,3))"
   ]
  },
  {
   "cell_type": "code",
   "execution_count": 12,
   "metadata": {
    "ExecuteTime": {
     "end_time": "2019-12-03T11:19:12.804231Z",
     "start_time": "2019-12-03T11:19:10.971071Z"
    }
   },
   "outputs": [
    {
     "name": "stdout",
     "output_type": "stream",
     "text": [
      "Input the multiplication number : 10\n",
      "10 X 1 = 10\n",
      "10 X 2 = 20\n",
      "10 X 3 = 30\n",
      "10 X 4 = 40\n",
      "10 X 5 = 50\n",
      "10 X 6 = 60\n",
      "10 X 7 = 70\n",
      "10 X 8 = 80\n",
      "10 X 9 = 90\n",
      "10 X 10 = 100\n"
     ]
    }
   ],
   "source": [
    "n = int(input(\"Input the multiplication number : \"))\n",
    "\n",
    "for i in range(1,11):\n",
    "    print(n,\"X\",i,\"=\",n*i)"
   ]
  },
  {
   "cell_type": "code",
   "execution_count": null,
   "metadata": {
    "ExecuteTime": {
     "start_time": "2019-12-03T11:48:46.942Z"
    }
   },
   "outputs": [],
   "source": [
    "# quadratic equation is ax^2 + bx +c\n",
    "from math import sqrt\n",
    "\n",
    "a = int(input(\"Enter a : \" ))\n",
    "b = int(input(\"Enter b : \" ))\n",
    "c = int(input(\"Enter c : \" ))\n",
    "\n",
    "d = b**2 - 4*a*c\n",
    "\n",
    "r1 = (-b - sqrt(d))/2*a\n",
    "r2 = (-b + sqrt(d))/2*a\n",
    "print(r1)\n",
    "print(r2)\n"
   ]
  },
  {
   "cell_type": "code",
   "execution_count": 9,
   "metadata": {
    "ExecuteTime": {
     "end_time": "2019-12-03T12:08:59.976175Z",
     "start_time": "2019-12-03T12:08:57.435992Z"
    }
   },
   "outputs": [
    {
     "name": "stdout",
     "output_type": "stream",
     "text": [
      "Enter a upper limit : 100\n",
      "Enter a lower limit : 0\n",
      "[1, 64]\n"
     ]
    }
   ],
   "source": [
    "upper = eval(input(\"Enter a upper limit : \"))\n",
    "lower = eval(input(\"Enter a lower limit : \"))\n",
    "\n",
    "l=[]\n",
    "\n",
    "for i in range(lower, upper+1):\n",
    "    m = 0\n",
    "    temp = i\n",
    "    while temp>0:\n",
    "        a = temp%10\n",
    "        m = m + a**3\n",
    "        temp = temp//10 \n",
    "        if i==m:\n",
    "            l.append(m)\n",
    "print(l)    "
   ]
  },
  {
   "cell_type": "code",
   "execution_count": 5,
   "metadata": {
    "ExecuteTime": {
     "end_time": "2019-12-03T12:06:50.049390Z",
     "start_time": "2019-12-03T12:06:46.526000Z"
    }
   },
   "outputs": [
    {
     "name": "stdout",
     "output_type": "stream",
     "text": [
      "Enter lower range: 0\n",
      "Enter upper range: 100\n",
      "1\n",
      "64\n"
     ]
    }
   ],
   "source": [
    "lower = int(input(\"Enter lower range: \"))  \n",
    "upper = int(input(\"Enter upper range: \"))  \n",
    "  \n",
    "for num in range(lower,upper + 1):  \n",
    "    sum = 0  \n",
    "    temp = num  \n",
    "    while temp > 0:  \n",
    "        digit = temp % 10  \n",
    "        sum += digit ** 3  \n",
    "        temp //= 10  \n",
    "        if num == sum:\n",
    "            print(num)  "
   ]
  },
  {
   "cell_type": "code",
   "execution_count": 11,
   "metadata": {
    "ExecuteTime": {
     "end_time": "2019-12-03T12:13:12.743472Z",
     "start_time": "2019-12-03T12:13:08.435335Z"
    }
   },
   "outputs": [
    {
     "name": "stdout",
     "output_type": "stream",
     "text": [
      "Enter a number : 10\n",
      "the sum is :  55\n"
     ]
    }
   ],
   "source": [
    "num = int(input(\"Enter a number : \"))\n",
    "\n",
    "if num<0:\n",
    "    print(\"Enter a positive number\")\n",
    "else :\n",
    "    sum = 0\n",
    "    while num>0:\n",
    "        sum= sum+num\n",
    "        num= num-1\n",
    "    print(\"the sum is : \",sum)"
   ]
  },
  {
   "cell_type": "code",
   "execution_count": 1,
   "metadata": {
    "ExecuteTime": {
     "end_time": "2019-12-03T12:29:53.891760Z",
     "start_time": "2019-12-03T12:29:51.254254Z"
    },
    "scrolled": false
   },
   "outputs": [
    {
     "name": "stdout",
     "output_type": "stream",
     "text": [
      "Enter highest limit : 150\n",
      "Fibonacci sequence : \n",
      "0\n",
      "1\n",
      "1\n",
      "2\n",
      "3\n",
      "5\n",
      "8\n",
      "13\n",
      "21\n",
      "34\n",
      "55\n",
      "89\n",
      "144\n"
     ]
    }
   ],
   "source": [
    "def f(n):\n",
    "    if n<=1:\n",
    "        return n\n",
    "    else :\n",
    "        return(f(n-1)+f(n-2))\n",
    "\n",
    "hl = int(input(\"Enter highest limit : \"))\n",
    "sum = 0\n",
    "while sum < hl:\n",
    "    if hl<=0:\n",
    "        print(\"Enter valid input\")\n",
    "    else :\n",
    "        print(\"Fibonacci sequence : \")\n",
    "        for i in range(0,hl):\n",
    "            sum = f(i)\n",
    "            if sum > hl:\n",
    "                break\n",
    "            print(sum)\n",
    "    "
   ]
  },
  {
   "cell_type": "code",
   "execution_count": 4,
   "metadata": {
    "ExecuteTime": {
     "end_time": "2019-12-03T12:32:07.446967Z",
     "start_time": "2019-12-03T12:32:05.080652Z"
    }
   },
   "outputs": [
    {
     "name": "stdout",
     "output_type": "stream",
     "text": [
      "Enter highest limit : 20\n",
      "Fibonacci sequence : \n",
      "0  is at index of :  1\n",
      "1  is at index of :  2\n",
      "1  is at index of :  3\n",
      "2  is at index of :  4\n",
      "3  is at index of :  5\n",
      "5  is at index of :  6\n",
      "8  is at index of :  7\n",
      "13  is at index of :  8\n",
      "21  is at index of :  9\n",
      "34  is at index of :  10\n",
      "55  is at index of :  11\n",
      "89  is at index of :  12\n",
      "144  is at index of :  13\n",
      "233  is at index of :  14\n",
      "377  is at index of :  15\n",
      "610  is at index of :  16\n",
      "987  is at index of :  17\n",
      "1597  is at index of :  18\n",
      "2584  is at index of :  19\n",
      "4181  is at index of :  20\n"
     ]
    }
   ],
   "source": [
    "def f(n):\n",
    "    if n<=1:\n",
    "        return n\n",
    "    else :\n",
    "        return(f(n-1)+f(n-2))\n",
    "\n",
    "hl = int(input(\"Enter highest limit : \"))\n",
    "if hl<=0:\n",
    "    print(\"Enter valid input\")\n",
    "else :\n",
    "    print(\"Fibonacci sequence : \")\n",
    "    for i in range(0,hl):\n",
    "        sum = f(i)\n",
    "        print(sum,\" is at index of : \",i+1)\n",
    "    "
   ]
  },
  {
   "cell_type": "code",
   "execution_count": 20,
   "metadata": {
    "ExecuteTime": {
     "end_time": "2019-12-03T12:50:00.208362Z",
     "start_time": "2019-12-03T12:49:57.106404Z"
    }
   },
   "outputs": [
    {
     "name": "stdout",
     "output_type": "stream",
     "text": [
      "Enter a Upper limit : 20\n",
      "Enter a Lower limit : 0\n",
      "Zero  0\n",
      "1  : prime number\n",
      "prime number  2\n",
      "prime number  3\n",
      "not a prime number  4\n",
      "prime number  5\n",
      "not a prime number  6\n",
      "prime number  7\n",
      "not a prime number  8\n",
      "not a prime number  9\n",
      "not a prime number  10\n",
      "prime number  11\n",
      "not a prime number  12\n",
      "prime number  13\n",
      "not a prime number  14\n",
      "not a prime number  15\n",
      "not a prime number  16\n",
      "prime number  17\n",
      "not a prime number  18\n",
      "prime number  19\n",
      "not a prime number  20\n"
     ]
    }
   ],
   "source": [
    "u = int(input(\"Enter a Upper limit : \"))\n",
    "l = int(input(\"Enter a Lower limit : \"))\n",
    "\n",
    "for n in range(l,u+1):\n",
    "    if n>1:\n",
    "        for i in range(2,n):\n",
    "            if n%i==0:\n",
    "                print(\"not a prime number \",n)\n",
    "                break\n",
    "        else :\n",
    "            print(\"prime number \", n)\n",
    "                \n",
    "    else:\n",
    "        if n==0:\n",
    "            print(\"Zero \",n)\n",
    "        else:\n",
    "            print(n,\" : prime number\")"
   ]
  },
  {
   "cell_type": "code",
   "execution_count": 15,
   "metadata": {
    "ExecuteTime": {
     "end_time": "2019-12-03T12:41:45.040244Z",
     "start_time": "2019-12-03T12:41:45.033257Z"
    }
   },
   "outputs": [
    {
     "name": "stdout",
     "output_type": "stream",
     "text": [
      "2\n",
      "3\n"
     ]
    }
   ],
   "source": [
    "for i in range(2,4):\n",
    "    print(i)"
   ]
  },
  {
   "cell_type": "code",
   "execution_count": 24,
   "metadata": {
    "ExecuteTime": {
     "end_time": "2019-12-03T12:56:29.191348Z",
     "start_time": "2019-12-03T12:56:27.689295Z"
    }
   },
   "outputs": [
    {
     "name": "stdout",
     "output_type": "stream",
     "text": [
      "Enter a year : 2020\n",
      "2020  is a leap year\n"
     ]
    }
   ],
   "source": [
    "y = int(input(\"Enter a year : \"))\n",
    "\n",
    "if y %4 ==0:\n",
    "    if y%100==0:\n",
    "        if y%400==0:\n",
    "            print(y,\" is a leap year\")\n",
    "        else :\n",
    "            print(y,\" not a leap year\")\n",
    "    else:\n",
    "        print(y,\" is a leap year\")\n",
    "else:\n",
    "    print(y,\" not a leap year\")"
   ]
  },
  {
   "cell_type": "code",
   "execution_count": 32,
   "metadata": {
    "ExecuteTime": {
     "end_time": "2019-12-03T13:17:40.935663Z",
     "start_time": "2019-12-03T13:17:37.445986Z"
    }
   },
   "outputs": [
    {
     "name": "stdout",
     "output_type": "stream",
     "text": [
      "Enter the number one : 5\n",
      "Enter the number two : 6\n"
     ]
    },
    {
     "data": {
      "text/plain": [
       "30"
      ]
     },
     "execution_count": 32,
     "metadata": {},
     "output_type": "execute_result"
    }
   ],
   "source": [
    "n = int(input(\"Enter the number one : \"))\n",
    "m = int(input(\"Enter the number two : \"))\n",
    "\n",
    "def lcm(n,m):\n",
    "    if (n>m):\n",
    "        g=n\n",
    "    else:\n",
    "        g=m\n",
    "    while True:\n",
    "        if (g%n==0) and (g%m==0) :\n",
    "            lc = g\n",
    "            break\n",
    "        g =g+1\n",
    "    return lc\n",
    "\n",
    "lcm(n,m)   "
   ]
  },
  {
   "cell_type": "code",
   "execution_count": 31,
   "metadata": {
    "ExecuteTime": {
     "end_time": "2019-12-03T13:17:32.929399Z",
     "start_time": "2019-12-03T13:17:28.287490Z"
    }
   },
   "outputs": [
    {
     "name": "stdout",
     "output_type": "stream",
     "text": [
      "Enter the number one : 30\n",
      "Enter the number two : 6\n"
     ]
    },
    {
     "data": {
      "text/plain": [
       "6"
      ]
     },
     "execution_count": 31,
     "metadata": {},
     "output_type": "execute_result"
    }
   ],
   "source": [
    "n = int(input(\"Enter the number one : \"))\n",
    "m = int(input(\"Enter the number two : \"))\n",
    "\n",
    "def hcf(n,m):\n",
    "    if (n>m):\n",
    "        s=m\n",
    "    else:\n",
    "        s=n\n",
    "    for i in range(1,s+1):\n",
    "        if (n%i==0) and (m%i==0) :\n",
    "            hc = i\n",
    "    return hc\n",
    "\n",
    "hcf(n,m)  "
   ]
  },
  {
   "cell_type": "code",
   "execution_count": 63,
   "metadata": {
    "ExecuteTime": {
     "end_time": "2019-12-03T13:29:59.600218Z",
     "start_time": "2019-12-03T13:29:56.569105Z"
    }
   },
   "outputs": [
    {
     "name": "stdout",
     "output_type": "stream",
     "text": [
      "Enter a number in decimal : 10\n",
      "Number in octal :  0o12\n",
      "Number in hexadecimal :  0xa\n",
      "Number in binary :  0b1010\n",
      "Enter a number in binary : 1010\n",
      "Number in octal :  0o1762\n",
      "Number in hexadecimal :  0x3f2\n",
      "Number in decimal :  1010\n"
     ]
    }
   ],
   "source": [
    "n = int(input(\"Enter a number in decimal : \"))\n",
    "\n",
    "print(\"Number in octal : \",oct(n))\n",
    "print(\"Number in hexadecimal : \",hex(n))\n",
    "print(\"Number in binary : \",bin(n))\n",
    "\n",
    "b = int(input(\"Enter a number in binary : \"))\n",
    "print(\"Number in octal : \",oct(b))\n",
    "print(\"Number in hexadecimal : \",hex(b))\n",
    "print(\"Number in decimal : \",int(b))"
   ]
  },
  {
   "cell_type": "code",
   "execution_count": 52,
   "metadata": {
    "ExecuteTime": {
     "end_time": "2019-12-03T13:26:55.539397Z",
     "start_time": "2019-12-03T13:26:53.026224Z"
    }
   },
   "outputs": [
    {
     "name": "stdout",
     "output_type": "stream",
     "text": [
      "Enter a character : `\n",
      "96\n"
     ]
    }
   ],
   "source": [
    "c = input(\"Enter a character : \")\n",
    "print(ord(c))"
   ]
  },
  {
   "cell_type": "code",
   "execution_count": 56,
   "metadata": {
    "ExecuteTime": {
     "end_time": "2019-12-03T13:28:05.436761Z",
     "start_time": "2019-12-03T13:28:03.650189Z"
    }
   },
   "outputs": [
    {
     "name": "stdout",
     "output_type": "stream",
     "text": [
      "Enter a ascii value : 65\n",
      "A\n"
     ]
    }
   ],
   "source": [
    "c = int(input(\"Enter a ascii value : \"))\n",
    "print(chr(c))"
   ]
  },
  {
   "cell_type": "code",
   "execution_count": 75,
   "metadata": {
    "ExecuteTime": {
     "end_time": "2019-12-03T13:38:19.177609Z",
     "start_time": "2019-12-03T13:38:19.165642Z"
    }
   },
   "outputs": [
    {
     "name": "stdout",
     "output_type": "stream",
     "text": [
      "[[11 13 15]\n",
      " [17 19 21]\n",
      " [23 25 27]]\n"
     ]
    }
   ],
   "source": [
    "import numpy as np\n",
    "\n",
    "a = np.array([[1,2,3],  \n",
    "       [4,5,6],  \n",
    "       [7,8,9]])\n",
    "b = np.array([[10,11,12],  \n",
    "       [13,14,15],  \n",
    "       [16,17,18]])\n",
    "\n",
    "result = a+b\n",
    "print(result)"
   ]
  },
  {
   "cell_type": "code",
   "execution_count": 80,
   "metadata": {
    "ExecuteTime": {
     "end_time": "2019-12-03T13:41:53.268686Z",
     "start_time": "2019-12-03T13:41:53.255712Z"
    }
   },
   "outputs": [
    {
     "name": "stdout",
     "output_type": "stream",
     "text": [
      "[11, 13, 15]\n",
      "[17, 19, 21]\n",
      "[23, 25, 27]\n"
     ]
    }
   ],
   "source": [
    "a = [[1,2,3],  \n",
    "       [4,5,6],  \n",
    "       [7,8,9]]\n",
    "b = [[10,11,12],  \n",
    "       [13,14,15],  \n",
    "       [16,17,18]]\n",
    "r = [[0,0,0],  \n",
    "       [0,0,0],  \n",
    "       [0,0,0]]\n",
    "\n",
    "for i in range(len(a)):\n",
    "    for j in range(len(a[i])):\n",
    "        r[i][j] = a[i][j] + b[i][j]\n",
    "        \n",
    "for k in r:\n",
    "    print(k)"
   ]
  },
  {
   "cell_type": "code",
   "execution_count": 90,
   "metadata": {
    "ExecuteTime": {
     "end_time": "2019-12-03T13:49:45.311868Z",
     "start_time": "2019-12-03T13:49:45.298897Z"
    }
   },
   "outputs": [
    {
     "name": "stdout",
     "output_type": "stream",
     "text": [
      "[84, 90, 96]\n",
      "[201, 216, 231]\n",
      "[318, 342, 366]\n"
     ]
    }
   ],
   "source": [
    "a = [[1,2,3],  \n",
    "       [4,5,6],  \n",
    "       [7,8,9]]  \n",
    "  \n",
    "b = [[10,11,12],  \n",
    "      [13,14,15],  \n",
    "      [16,17,18]]  \n",
    "  \n",
    "r = [[0,0,0],  \n",
    "    [0,0,0],  \n",
    "    [0,0,0]] \n",
    "\n",
    "for i in range(len(a)):\n",
    "    for j in range(len(a[i])):\n",
    "        for k in range(len(b)):\n",
    "            r[i][j] += a[i][k]*b[k][j]\n",
    "            \n",
    "            \n",
    "for l in r:\n",
    "    print(l)"
   ]
  },
  {
   "cell_type": "code",
   "execution_count": 95,
   "metadata": {
    "ExecuteTime": {
     "end_time": "2019-12-03T13:56:26.598540Z",
     "start_time": "2019-12-03T13:56:26.583546Z"
    }
   },
   "outputs": [
    {
     "name": "stdout",
     "output_type": "stream",
     "text": [
      "[10, 13, 16]\n",
      "[11, 14, 17]\n",
      "[12, 15, 18]\n"
     ]
    }
   ],
   "source": [
    "b = [[10,11,12],  \n",
    "      [13,14,15],  \n",
    "      [16,17,18]]\n",
    "r = [[0,0,0],  \n",
    "    [0,0,0],  \n",
    "    [0,0,0]] \n",
    "\n",
    "for i in range(len(b)):\n",
    "    for j in range(len(b[i])):\n",
    "        r[i][j]= b[j][i]\n",
    "\n",
    "for k in r:\n",
    "    print(k)"
   ]
  },
  {
   "cell_type": "code",
   "execution_count": 98,
   "metadata": {
    "ExecuteTime": {
     "end_time": "2019-12-03T13:58:03.431822Z",
     "start_time": "2019-12-03T13:58:00.067463Z"
    }
   },
   "outputs": [
    {
     "name": "stdout",
     "output_type": "stream",
     "text": [
      "Enter a line or character : my name is nayeem\n",
      "is\n",
      "my\n",
      "name\n",
      "nayeem\n"
     ]
    }
   ],
   "source": [
    "i = str(input(\"Enter a line or character : \"))\n",
    "\n",
    "words = i.split()\n",
    "\n",
    "words.sort()\n",
    "for j in  words:\n",
    "    print(j)"
   ]
  },
  {
   "cell_type": "code",
   "execution_count": 107,
   "metadata": {
    "ExecuteTime": {
     "end_time": "2019-12-03T14:06:04.951731Z",
     "start_time": "2019-12-03T14:06:02.995011Z"
    }
   },
   "outputs": [
    {
     "name": "stdout",
     "output_type": "stream",
     "text": [
      "Enter a string : i am nayem.and i am good!how about you?\n",
      "i am nayem and i am good how about you \n"
     ]
    }
   ],
   "source": [
    "from string import punctuation\n",
    "s = str(input(\"Enter a string : \"))\n",
    "again=\"\"\n",
    "\n",
    "for i in s:\n",
    "    if i not in punctuation:\n",
    "        again=again+i\n",
    "    else:\n",
    "        again = again+\" \"\n",
    "    \n",
    "print(again)\n",
    "        \n",
    "    "
   ]
  },
  {
   "cell_type": "code",
   "execution_count": 103,
   "metadata": {
    "ExecuteTime": {
     "end_time": "2019-12-03T14:02:51.935675Z",
     "start_time": "2019-12-03T14:02:42.716240Z"
    }
   },
   "outputs": [
    {
     "name": "stdout",
     "output_type": "stream",
     "text": [
      "Enter a string: i am nayem.and i am good!how about you?\n",
      "i am nayemand i am goodhow about you\n"
     ]
    }
   ],
   "source": [
    "# define punctuation  \n",
    "punctuation = '''''!()-[]{};:'\"\\,<>./?@#$%^&*_~'''  \n",
    "# take input from the user  \n",
    "my_str = input(\"Enter a string: \")  \n",
    "# remove punctuation from the string  \n",
    "no_punct = \"\"  \n",
    "for char in my_str:  \n",
    "    if char not in punctuation:  \n",
    "        no_punct = no_punct + char  \n",
    "# display the unpunctuated string  \n",
    "print(no_punct) "
   ]
  },
  {
   "cell_type": "code",
   "execution_count": 110,
   "metadata": {
    "ExecuteTime": {
     "end_time": "2019-12-03T14:12:36.443878Z",
     "start_time": "2019-12-03T14:12:36.433940Z"
    }
   },
   "outputs": [
    {
     "name": "stdout",
     "output_type": "stream",
     "text": [
      "[1, 2, 3, 4, 5, 6]\n",
      "[1, 2, 3, 4, 5, 6]\n"
     ]
    }
   ],
   "source": [
    "a = [1,2,3,4,5,6]\n",
    "new = []\n",
    "for i in range(len(a)):\n",
    "    new.append(a[i])\n",
    "print(new)\n",
    "print(a)"
   ]
  },
  {
   "cell_type": "code",
   "execution_count": 122,
   "metadata": {
    "ExecuteTime": {
     "end_time": "2019-12-03T14:23:19.067165Z",
     "start_time": "2019-12-03T14:23:19.052179Z"
    }
   },
   "outputs": [
    {
     "name": "stdout",
     "output_type": "stream",
     "text": [
      "The elements of original array a is : \n",
      "1 2 3 4 5 6 \n",
      "6 5 4 3 2 1 "
     ]
    }
   ],
   "source": [
    "a = [1,2,3,4,5,6]\n",
    "r=[]\n",
    "for w in range(len(a)):\n",
    "    r.append(0)\n",
    "    \n",
    "print(\"The elements of original array a is : \")\n",
    "for i in range(len(a)):\n",
    "    print(a[i],end =' ')\n",
    "p=len(a)   \n",
    "for j in range(len(a)):\n",
    "    r[j] = a[p-(j+1)]\n",
    "    \n",
    "print() \n",
    "for k in r:\n",
    "    print(k,end=\" \")"
   ]
  },
  {
   "cell_type": "code",
   "execution_count": 130,
   "metadata": {
    "ExecuteTime": {
     "end_time": "2019-12-03T14:31:55.223809Z",
     "start_time": "2019-12-03T14:31:55.210844Z"
    }
   },
   "outputs": [
    {
     "name": "stdout",
     "output_type": "stream",
     "text": [
      "4 5 3 77 2 \n",
      "After descending order : \n",
      "[77, 5, 4, 3, 2]\n"
     ]
    }
   ],
   "source": [
    "a = [4,5,3,77,2]\n",
    "\n",
    "for i in range(len(a)):\n",
    "    print(a[i],end=\" \")\n",
    "print()   \n",
    "print(\"After descending order : \")\n",
    "\n",
    "for i in range(len(a)):\n",
    "    for j in range(i+1,len(a)):\n",
    "        if a[i]<a[j]:\n",
    "            temp =a[i]\n",
    "            a[i]=a[j]\n",
    "            a[j]=temp\n",
    "print(a)\n",
    "        "
   ]
  },
  {
   "cell_type": "code",
   "execution_count": 131,
   "metadata": {
    "ExecuteTime": {
     "end_time": "2019-12-03T14:32:28.622723Z",
     "start_time": "2019-12-03T14:32:28.611706Z"
    }
   },
   "outputs": [
    {
     "name": "stdout",
     "output_type": "stream",
     "text": [
      "4 5 3 77 2 \n",
      "After ascending order : \n",
      "[2, 3, 4, 5, 77]\n"
     ]
    }
   ],
   "source": [
    "a = [4,5,3,77,2]\n",
    "\n",
    "for i in range(len(a)):\n",
    "    print(a[i],end=\" \")\n",
    "print()   \n",
    "print(\"After ascending order : \")\n",
    "\n",
    "for i in range(len(a)):\n",
    "    for j in range(i+1,len(a)):\n",
    "        if a[i]>a[j]:\n",
    "            temp =a[i]\n",
    "            a[i]=a[j]\n",
    "            a[j]=temp\n",
    "print(a)"
   ]
  },
  {
   "cell_type": "code",
   "execution_count": 161,
   "metadata": {
    "ExecuteTime": {
     "end_time": "2019-12-03T15:04:59.712487Z",
     "start_time": "2019-12-03T15:04:59.699487Z"
    }
   },
   "outputs": [
    {
     "name": "stdout",
     "output_type": "stream",
     "text": [
      "The original array A is :\n",
      "4 5 3 77 2 22 3 66 77 \n",
      "Non Duplicates:  [4, 5, 2, 22, 66]\n",
      "Duplicates : [3, 77]\n"
     ]
    }
   ],
   "source": [
    "\n",
    "a = [4,5,3,77,2,22,3,66,77]\n",
    "nd =[]\n",
    "dup=[]\n",
    "print(\"The original array A is :\")\n",
    "for i in range(len(a)):\n",
    "    print(a[i],end=\" \")\n",
    "    \n",
    "print()\n",
    "\n",
    "for j in range(len(a)):\n",
    "    for k in range(j+1,len(a)):\n",
    "        if a[j] == a[k]:\n",
    "            dup.append(a[j])\n",
    "    if a[j] not in dup:\n",
    "        nd.append(a[j])\n",
    "            \n",
    "\n",
    "    \n",
    "print(\"Non Duplicates: \",nd)\n",
    "print(\"Duplicates :\",dup)"
   ]
  },
  {
   "cell_type": "code",
   "execution_count": 163,
   "metadata": {
    "ExecuteTime": {
     "end_time": "2019-12-03T15:06:26.357033Z",
     "start_time": "2019-12-03T15:06:26.345068Z"
    }
   },
   "outputs": [
    {
     "name": "stdout",
     "output_type": "stream",
     "text": [
      "77 66 3 22 2 77 3 5 4 "
     ]
    }
   ],
   "source": [
    "a = [4,5,3,77,2,22,3,66,77]\n",
    "\n",
    "for i in range(len(a)-1,-1,-1):\n",
    "    print(a[i],end=\" \")"
   ]
  },
  {
   "cell_type": "code",
   "execution_count": 171,
   "metadata": {
    "ExecuteTime": {
     "end_time": "2019-12-03T15:09:55.018162Z",
     "start_time": "2019-12-03T15:09:55.007226Z"
    }
   },
   "outputs": [
    {
     "name": "stdout",
     "output_type": "stream",
     "text": [
      "5 77 22 66 "
     ]
    }
   ],
   "source": [
    "a = [4,5,3,77,2,22,3,66,77]\n",
    "\n",
    "for i in range(1,len(a)):\n",
    "    if i%2 !=0:\n",
    "        print(a[i],end=\" \") #even position"
   ]
  },
  {
   "cell_type": "code",
   "execution_count": 172,
   "metadata": {
    "ExecuteTime": {
     "end_time": "2019-12-03T15:09:56.673935Z",
     "start_time": "2019-12-03T15:09:56.664961Z"
    }
   },
   "outputs": [
    {
     "name": "stdout",
     "output_type": "stream",
     "text": [
      "4 3 2 3 77 "
     ]
    }
   ],
   "source": [
    "a = [4,5,3,77,2,22,3,66,77]\n",
    "\n",
    "for i in range(len(a)):\n",
    "    if i%2 ==0:\n",
    "        print(a[i],end=\" \") #odd position"
   ]
  },
  {
   "cell_type": "code",
   "execution_count": 173,
   "metadata": {
    "ExecuteTime": {
     "end_time": "2019-12-03T15:11:41.783291Z",
     "start_time": "2019-12-03T15:11:41.772316Z"
    }
   },
   "outputs": [
    {
     "name": "stdout",
     "output_type": "stream",
     "text": [
      "77\n"
     ]
    }
   ],
   "source": [
    "a = [4,5,3,77,2,22,3,66,77]\n",
    "\n",
    "for i in range(len(a)):\n",
    "    for j in  range(i+1,len(a)):\n",
    "        if a[i]<a[j]:\n",
    "            temp =a[i]\n",
    "            a[i]=a[j]\n",
    "            a[j]=temp\n",
    "print(a[0])"
   ]
  },
  {
   "cell_type": "code",
   "execution_count": 177,
   "metadata": {
    "ExecuteTime": {
     "end_time": "2019-12-03T15:12:58.711158Z",
     "start_time": "2019-12-03T15:12:58.702218Z"
    }
   },
   "outputs": [
    {
     "name": "stdout",
     "output_type": "stream",
     "text": [
      "77\n"
     ]
    }
   ],
   "source": [
    "a = [4,5,3,77,2,22,3,66,77]\n",
    "max = a[0]\n",
    "for i in range(len(a)):\n",
    "    if a[i]>max:\n",
    "        max=a[i]\n",
    "   \n",
    "print(max)"
   ]
  },
  {
   "cell_type": "code",
   "execution_count": 178,
   "metadata": {
    "ExecuteTime": {
     "end_time": "2019-12-03T15:13:37.263663Z",
     "start_time": "2019-12-03T15:13:37.251699Z"
    }
   },
   "outputs": [
    {
     "name": "stdout",
     "output_type": "stream",
     "text": [
      "2\n"
     ]
    }
   ],
   "source": [
    "a = [4,5,3,77,2,22,3,66,77]\n",
    "min = a[0]\n",
    "for i in range(len(a)):\n",
    "    if a[i]<min:\n",
    "        min=a[i]\n",
    "   \n",
    "print(min)"
   ]
  },
  {
   "cell_type": "code",
   "execution_count": 179,
   "metadata": {
    "ExecuteTime": {
     "end_time": "2019-12-03T15:14:30.781601Z",
     "start_time": "2019-12-03T15:14:30.772598Z"
    },
    "scrolled": true
   },
   "outputs": [
    {
     "name": "stdout",
     "output_type": "stream",
     "text": [
      "259\n"
     ]
    }
   ],
   "source": [
    "a = [4,5,3,77,2,22,3,66,77]\n",
    "sum =0\n",
    "\n",
    "for i in range(len(a)):\n",
    "    sum = sum+a[i]\n",
    "print(sum)"
   ]
  },
  {
   "cell_type": "code",
   "execution_count": null,
   "metadata": {},
   "outputs": [],
   "source": [
    "#  frequency, left rotate and right rotate"
   ]
  },
  {
   "cell_type": "code",
   "execution_count": null,
   "metadata": {},
   "outputs": [],
   "source": [
    "n = int(input(\"Enter a number : \"))\n",
    "\n",
    "while "
   ]
  },
  {
   "cell_type": "code",
   "execution_count": null,
   "metadata": {},
   "outputs": [],
   "source": []
  },
  {
   "cell_type": "code",
   "execution_count": null,
   "metadata": {},
   "outputs": [],
   "source": []
  },
  {
   "cell_type": "code",
   "execution_count": null,
   "metadata": {},
   "outputs": [],
   "source": []
  },
  {
   "cell_type": "code",
   "execution_count": null,
   "metadata": {},
   "outputs": [],
   "source": []
  },
  {
   "cell_type": "code",
   "execution_count": null,
   "metadata": {},
   "outputs": [],
   "source": []
  }
 ],
 "metadata": {
  "kernelspec": {
   "display_name": "Python 3",
   "language": "python",
   "name": "python3"
  },
  "language_info": {
   "codemirror_mode": {
    "name": "ipython",
    "version": 3
   },
   "file_extension": ".py",
   "mimetype": "text/x-python",
   "name": "python",
   "nbconvert_exporter": "python",
   "pygments_lexer": "ipython3",
   "version": "3.7.4"
  }
 },
 "nbformat": 4,
 "nbformat_minor": 2
}
