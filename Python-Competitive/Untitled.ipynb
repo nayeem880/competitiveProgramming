{
 "cells": [
  {
   "cell_type": "code",
   "execution_count": 1,
   "metadata": {},
   "outputs": [
    {
     "name": "stdout",
     "output_type": "stream",
     "text": [
      "hello world\n"
     ]
    }
   ],
   "source": [
    "print('hello world')"
   ]
  },
  {
   "cell_type": "code",
   "execution_count": 14,
   "metadata": {},
   "outputs": [
    {
     "name": "stdout",
     "output_type": "stream",
     "text": [
      "Enter two numbers bellow - \n",
      "\n",
      "First number : 44\n",
      "Second number : 4\n",
      "Choose operator : 4\n",
      "11.0\n"
     ]
    }
   ],
   "source": [
    "#creating a calculator using python\n",
    "\n",
    "\n",
    "#user interface\n",
    "\n",
    "print(\"Enter two numbers bellow - \\n\")\n",
    "num1 = int(input(\"First number : \"))\n",
    "num2 = int(input(\"Second number : \"))\n",
    "op = int(input(\"Choose operator : \"))\n",
    "\n",
    "if op==1:\n",
    "    def sum(num1, num2):\n",
    "        return num1+num2\n",
    "elif op==2:\n",
    "    def sub(num1, num2):\n",
    "        return num1-num2\n",
    "elif op==3:\n",
    "    def mul(num1, num2):\n",
    "        return num1*num2\n",
    "elif op==4 :\n",
    "    print(num1/num2)\n"
   ]
  },
  {
   "cell_type": "code",
   "execution_count": null,
   "metadata": {},
   "outputs": [],
   "source": []
  }
 ],
 "metadata": {
  "kernelspec": {
   "display_name": "Python 3",
   "language": "python",
   "name": "python3"
  },
  "language_info": {
   "codemirror_mode": {
    "name": "ipython",
    "version": 3
   },
   "file_extension": ".py",
   "mimetype": "text/x-python",
   "name": "python",
   "nbconvert_exporter": "python",
   "pygments_lexer": "ipython3",
   "version": "3.6.8"
  }
 },
 "nbformat": 4,
 "nbformat_minor": 2
}
