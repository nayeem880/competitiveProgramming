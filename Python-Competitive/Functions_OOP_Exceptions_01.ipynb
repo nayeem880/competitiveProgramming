{
  "nbformat": 4,
  "nbformat_minor": 0,
  "metadata": {
    "colab": {
      "name": "Functions_OOP_Exceptions_01.ipynb",
      "provenance": [],
      "collapsed_sections": [],
      "authorship_tag": "ABX9TyNsC8Ik+9qLV6p7VOpVzhl2",
      "include_colab_link": true
    },
    "kernelspec": {
      "name": "python3",
      "display_name": "Python 3"
    }
  },
  "cells": [
    {
      "cell_type": "markdown",
      "metadata": {
        "id": "view-in-github",
        "colab_type": "text"
      },
      "source": [
        "<a href=\"https://colab.research.google.com/github/nayeem990/Competitive_Python/blob/master/Functions_OOP_Exceptions_01.ipynb\" target=\"_parent\"><img src=\"https://colab.research.google.com/assets/colab-badge.svg\" alt=\"Open In Colab\"/></a>"
      ]
    },
    {
      "cell_type": "code",
      "metadata": {
        "id": "n1DNAAVMfJBd",
        "colab_type": "code",
        "colab": {
          "base_uri": "https://localhost:8080/",
          "height": 52
        },
        "outputId": "69ec0805-dcde-4a1f-928d-c2697b9ebe24"
      },
      "source": [
        "def evenodd(x):\n",
        "    if x%2 == 0:\n",
        "        print(\"even\")\n",
        "    else :\n",
        "        print(\"Odd\")\n",
        "\n",
        "evenodd(33)\n",
        "evenodd(44)"
      ],
      "execution_count": 2,
      "outputs": [
        {
          "output_type": "stream",
          "text": [
            "Odd\n",
            "even\n"
          ],
          "name": "stdout"
        }
      ]
    },
    {
      "cell_type": "code",
      "metadata": {
        "id": "c42MYri2fnHp",
        "colab_type": "code",
        "colab": {
          "base_uri": "https://localhost:8080/",
          "height": 52
        },
        "outputId": "aa97b12e-c794-4f5d-ce07-b3f73784c451"
      },
      "source": [
        "def listmodify(s):\n",
        "    s[0]=222\n",
        "\n",
        "l = [22,33,44,55,66,77,88]\n",
        "print(l)\n",
        "listmodify(l)\n",
        "print(l)"
      ],
      "execution_count": 3,
      "outputs": [
        {
          "output_type": "stream",
          "text": [
            "[22, 33, 44, 55, 66, 77, 88]\n",
            "[222, 33, 44, 55, 66, 77, 88]\n"
          ],
          "name": "stdout"
        }
      ]
    },
    {
      "cell_type": "code",
      "metadata": {
        "id": "IbPjdKDqgCfE",
        "colab_type": "code",
        "colab": {
          "base_uri": "https://localhost:8080/",
          "height": 69
        },
        "outputId": "ea579ddc-8cd2-48b6-8fbe-0e1185130418"
      },
      "source": [
        "def f(x):\n",
        "    x=[2,3,4,5,6]\n",
        "    return x\n",
        "\n",
        "l =[55,64,67,84,62,11]\n",
        "print(l)\n",
        "a = f(l)\n",
        "print(a)\n",
        "print(l)"
      ],
      "execution_count": 4,
      "outputs": [
        {
          "output_type": "stream",
          "text": [
            "[55, 64, 67, 84, 62, 11]\n",
            "[2, 3, 4, 5, 6]\n",
            "[55, 64, 67, 84, 62, 11]\n"
          ],
          "name": "stdout"
        }
      ]
    },
    {
      "cell_type": "code",
      "metadata": {
        "id": "MP7yDyh9giDW",
        "colab_type": "code",
        "colab": {
          "base_uri": "https://localhost:8080/",
          "height": 52
        },
        "outputId": "3926e738-907b-4d42-b35d-4ae733319134"
      },
      "source": [
        "def myf(x):\n",
        "    x=333\n",
        "    return x\n",
        "\n",
        "v = 44\n",
        "a = myf(v)\n",
        "print(v)\n",
        "print(a)"
      ],
      "execution_count": 6,
      "outputs": [
        {
          "output_type": "stream",
          "text": [
            "44\n",
            "333\n"
          ],
          "name": "stdout"
        }
      ]
    },
    {
      "cell_type": "code",
      "metadata": {
        "id": "WhCKR3lRg7Qh",
        "colab_type": "code",
        "colab": {
          "base_uri": "https://localhost:8080/",
          "height": 52
        },
        "outputId": "52459969-5364-481e-99f1-a72685a474e3"
      },
      "source": [
        "def swap(x,y):\n",
        "    temp =x\n",
        "    x=y\n",
        "    y=temp\n",
        "    print(x,y)\n",
        "\n",
        "i = 44\n",
        "j = 67\n",
        "print(i,j)\n",
        "swap(i,j)\n"
      ],
      "execution_count": 7,
      "outputs": [
        {
          "output_type": "stream",
          "text": [
            "44 67\n",
            "67 44\n"
          ],
          "name": "stdout"
        }
      ]
    },
    {
      "cell_type": "code",
      "metadata": {
        "id": "wjN3TtzIhVUH",
        "colab_type": "code",
        "colab": {
          "base_uri": "https://localhost:8080/",
          "height": 34
        },
        "outputId": "7d89dfcb-0692-4d88-f4ed-a82efefa3c17"
      },
      "source": [
        "def ff(x,y=98725):\n",
        "    print(x,y)\n",
        "\n",
        "ff(3333)"
      ],
      "execution_count": 8,
      "outputs": [
        {
          "output_type": "stream",
          "text": [
            "3333 98725\n"
          ],
          "name": "stdout"
        }
      ]
    },
    {
      "cell_type": "code",
      "metadata": {
        "id": "82oPt8cVhr8a",
        "colab_type": "code",
        "colab": {
          "base_uri": "https://localhost:8080/",
          "height": 52
        },
        "outputId": "a67081db-4848-488c-9238-1f3c9d121327"
      },
      "source": [
        "def name(firstname,lastname):\n",
        "    print(firstname,lastname,sep=\" \")\n",
        "    print(lastname,end=\" \")\n",
        "    print(firstname)\n",
        "\n",
        "\n",
        "name('nayeem','islam')"
      ],
      "execution_count": 15,
      "outputs": [
        {
          "output_type": "stream",
          "text": [
            "nayeem islam\n",
            "islam nayeem\n"
          ],
          "name": "stdout"
        }
      ]
    },
    {
      "cell_type": "code",
      "metadata": {
        "id": "FHkm4Z_xh2Zb",
        "colab_type": "code",
        "colab": {
          "base_uri": "https://localhost:8080/",
          "height": 69
        },
        "outputId": "5ca4bb4a-3a29-4031-e26f-a5388454aeb8"
      },
      "source": [
        "def hh(*many):\n",
        "    for i in many:\n",
        "        print(i,end=\" \")\n",
        "\n",
        "\n",
        "hh('hello','there','i','am','nayeem')\n",
        "hh(*[44,55,\"66\",77,88])\n",
        "l =[345,56,35,6,37]\n",
        "hh(*l)\n",
        "\n",
        "t = (22,33,4,56)\n",
        "print(\"\\n\",t)\n",
        "hh(*t)"
      ],
      "execution_count": 46,
      "outputs": [
        {
          "output_type": "stream",
          "text": [
            "hello there i am nayeem 44 55 66 77 88 345 56 35 6 37 \n",
            " (22, 33, 4, 56)\n",
            "22 33 4 56 "
          ],
          "name": "stdout"
        }
      ]
    },
    {
      "cell_type": "code",
      "metadata": {
        "id": "PLBlrnp-iuOh",
        "colab_type": "code",
        "colab": {
          "base_uri": "https://localhost:8080/",
          "height": 69
        },
        "outputId": "ee544c44-81ee-421e-c7b5-1ee58e04996e"
      },
      "source": [
        "def kwarg(**many):\n",
        "    for i , j in many.items():\n",
        "        print(i,j)\n",
        "\n",
        "d={\"name\":\"nayem\",\n",
        "   \"age\":3,\n",
        "   \"op\":\"ml developer\"}\n",
        "kwarg(**d)"
      ],
      "execution_count": 36,
      "outputs": [
        {
          "output_type": "stream",
          "text": [
            "name nayem\n",
            "age 3\n",
            "op ml developer\n"
          ],
          "name": "stdout"
        }
      ]
    },
    {
      "cell_type": "code",
      "metadata": {
        "id": "YyS0gvFWl9XQ",
        "colab_type": "code",
        "colab": {
          "base_uri": "https://localhost:8080/",
          "height": 69
        },
        "outputId": "527ef2d5-93d9-408e-f021-a238f21717fd"
      },
      "source": [
        "def kwarg(**many):\n",
        "    for i in many.items():\n",
        "        print(i[0],i[1])\n",
        "\n",
        "d={\"name\":\"nayem\",\n",
        "   \"age\":3,\n",
        "   \"op\":\"ml developer\"}\n",
        "kwarg(**d)"
      ],
      "execution_count": 40,
      "outputs": [
        {
          "output_type": "stream",
          "text": [
            "name nayem\n",
            "age 3\n",
            "op ml developer\n"
          ],
          "name": "stdout"
        }
      ]
    },
    {
      "cell_type": "code",
      "metadata": {
        "id": "fH4gyJtKjOGz",
        "colab_type": "code",
        "colab": {
          "base_uri": "https://localhost:8080/",
          "height": 69
        },
        "outputId": "c167e9a4-37ac-4434-bb0a-88ee801147df"
      },
      "source": [
        "def myFun(**kwargs):  \n",
        "    for key, value in kwargs.items(): \n",
        "        print (\"%s == %s\" %(key, value)) \n",
        "  \n",
        "# Driver code \n",
        "myFun(first ='Geeks', mid ='for', last='Geeks') "
      ],
      "execution_count": 24,
      "outputs": [
        {
          "output_type": "stream",
          "text": [
            "first == Geeks\n",
            "mid == for\n",
            "last == Geeks\n"
          ],
          "name": "stdout"
        }
      ]
    },
    {
      "cell_type": "code",
      "metadata": {
        "id": "hZtUCtUljdHt",
        "colab_type": "code",
        "colab": {
          "base_uri": "https://localhost:8080/",
          "height": 34
        },
        "outputId": "998b77f2-8f89-41d3-e749-fe3275ac29d4"
      },
      "source": [
        "cube = lambda x:x*x*x\n",
        "cube(4)"
      ],
      "execution_count": 33,
      "outputs": [
        {
          "output_type": "execute_result",
          "data": {
            "text/plain": [
              "64"
            ]
          },
          "metadata": {
            "tags": []
          },
          "execution_count": 33
        }
      ]
    },
    {
      "cell_type": "code",
      "metadata": {
        "id": "xlGMcntjj8Vb",
        "colab_type": "code",
        "colab": {
          "base_uri": "https://localhost:8080/",
          "height": 34
        },
        "outputId": "2297f25f-a0db-4fc0-d3dd-261a48b0cb63"
      },
      "source": [
        "square = lambda x : x**2\n",
        "\n",
        "square(100)"
      ],
      "execution_count": 34,
      "outputs": [
        {
          "output_type": "execute_result",
          "data": {
            "text/plain": [
              "10000"
            ]
          },
          "metadata": {
            "tags": []
          },
          "execution_count": 34
        }
      ]
    },
    {
      "cell_type": "code",
      "metadata": {
        "id": "MDLYogQfkfKI",
        "colab_type": "code",
        "colab": {
          "base_uri": "https://localhost:8080/",
          "height": 69
        },
        "outputId": "7a7dad09-e38f-41d5-88cc-9c5b94decc91"
      },
      "source": [
        "# Python program to demonstrate \n",
        "# passing dictionary as kwargs \n",
        "  \n",
        "  \n",
        "def display(x = 0, y = 0, **name): \n",
        "      \n",
        "    print (name[\"fname\"]+\" \"+name[\"mname\"]+\" \"+name[\"lname\"]) \n",
        "    print (\"x =\", x) \n",
        "    print (\"y =\", y) \n",
        "  \n",
        "def main(): \n",
        "    # passing dictionary key-value  \n",
        "    # pair with other arguments \n",
        "    display(2, fname =\"John\", mname =\"F.\", lname =\"Kennedy\") \n",
        "      \n",
        "# Driver's code \n",
        "main() "
      ],
      "execution_count": 37,
      "outputs": [
        {
          "output_type": "stream",
          "text": [
            "John F. Kennedy\n",
            "x = 2\n",
            "y = 0\n"
          ],
          "name": "stdout"
        }
      ]
    },
    {
      "cell_type": "code",
      "metadata": {
        "id": "61eHZk2Olv9U",
        "colab_type": "code",
        "colab": {
          "base_uri": "https://localhost:8080/",
          "height": 34
        },
        "outputId": "92722e1a-120c-4c28-9b3b-30da1b1a83e8"
      },
      "source": [
        "num=33\n",
        "print(num.bit_length())"
      ],
      "execution_count": 58,
      "outputs": [
        {
          "output_type": "stream",
          "text": [
            "6\n"
          ],
          "name": "stdout"
        }
      ]
    },
    {
      "cell_type": "code",
      "metadata": {
        "id": "IXGinP4Mom6D",
        "colab_type": "code",
        "colab": {
          "base_uri": "https://localhost:8080/",
          "height": 34
        },
        "outputId": "38349a93-a613-4ff1-94e4-2f28368cf403"
      },
      "source": [
        " n = -48\n",
        " print(n.bit_length())"
      ],
      "execution_count": 59,
      "outputs": [
        {
          "output_type": "stream",
          "text": [
            "6\n"
          ],
          "name": "stdout"
        }
      ]
    },
    {
      "cell_type": "code",
      "metadata": {
        "id": "DX9iJHlkyPvU",
        "colab_type": "code",
        "colab": {
          "base_uri": "https://localhost:8080/",
          "height": 34
        },
        "outputId": "554fa3b9-0b40-4d34-8907-7542dea48f86"
      },
      "source": [
        "m =55\n",
        "\n",
        "m.to_bytes(2,byteorder='big')"
      ],
      "execution_count": 63,
      "outputs": [
        {
          "output_type": "execute_result",
          "data": {
            "text/plain": [
              "b'\\x007'"
            ]
          },
          "metadata": {
            "tags": []
          },
          "execution_count": 63
        }
      ]
    },
    {
      "cell_type": "code",
      "metadata": {
        "id": "G6ISIvnV1GpK",
        "colab_type": "code",
        "colab": {
          "base_uri": "https://localhost:8080/",
          "height": 34
        },
        "outputId": "c735fbae-242d-4aff-f46d-4a9ce9b6c288"
      },
      "source": [
        "print(m.from_bytes(b'\\x007', byteorder ='big')) \n"
      ],
      "execution_count": 66,
      "outputs": [
        {
          "output_type": "stream",
          "text": [
            "55\n"
          ],
          "name": "stdout"
        }
      ]
    },
    {
      "cell_type": "code",
      "metadata": {
        "id": "BbteyTTS1WGM",
        "colab_type": "code",
        "colab": {
          "base_uri": "https://localhost:8080/",
          "height": 34
        },
        "outputId": "1b0cc55e-eb8f-46f4-cb14-bad715730bf2"
      },
      "source": [
        "from datetime import date \n",
        "date.today()"
      ],
      "execution_count": 68,
      "outputs": [
        {
          "output_type": "execute_result",
          "data": {
            "text/plain": [
              "datetime.date(2020, 4, 21)"
            ]
          },
          "metadata": {
            "tags": []
          },
          "execution_count": 68
        }
      ]
    },
    {
      "cell_type": "markdown",
      "metadata": {
        "id": "vMyjKHGc9NDr",
        "colab_type": "text"
      },
      "source": [
        "Class method vs Static Method\n",
        "\n",
        "A class method takes cls as first parameter while a static method needs no specific parameters.\n",
        "A class method can access or modify class state while a static method can’t access or modify it.\n",
        "In general, static methods know nothing about class state. They are utility type methods that take some parameters and work upon those parameters. On the other hand class methods must have class as parameter.\n",
        "We use @classmethod decorator in python to create a class method and we use @staticmethod decorator to create a static method in python.\n",
        "When to use what?\n",
        "\n",
        "We generally use class method to create factory methods. Factory methods return class object ( similar to a constructor ) for different use cases.\n",
        "We generally use static methods to create utility functions.\n",
        "How to define a class method and a static method?\n",
        "\n",
        "To define a class method in python, we use @classmethod decorator and to define a static method we use @staticmethod decorator.\n",
        "Let us look at an example to understand the difference between both of them. Let us say we want to create a class Person. Now, python doesn’t support method overloading like C++ or Java so we use class methods to create factory methods. In the below example we use a class method to create a person object from birth year.\n",
        "\n",
        "As explained above we use static methods to create utility functions. In the below example we use a static method to check if a person is adult or not."
      ]
    },
    {
      "cell_type": "code",
      "metadata": {
        "id": "iLPNiPOZ8sB_",
        "colab_type": "code",
        "colab": {
          "base_uri": "https://localhost:8080/",
          "height": 69
        },
        "outputId": "ee6179b4-4f9f-4112-a0b8-5f5632b55b0a"
      },
      "source": [
        "# Python program to demonstrate  \n",
        "# use of class method and static method. \n",
        "from datetime import date \n",
        "  \n",
        "class Person: \n",
        "    def __init__(self, name, age): \n",
        "        self.name = name \n",
        "        self.age = age \n",
        "      \n",
        "    # a class method to create a Person object by birth year. \n",
        "    @classmethod\n",
        "    def fromBirthYear(cls, name, year): \n",
        "        return cls(name, date.today().year - year) \n",
        "      \n",
        "    # a static method to check if a Person is adult or not. \n",
        "    @staticmethod\n",
        "    def isAdult(age): \n",
        "        return age > 18\n",
        "  \n",
        "person1 = Person('mayank', 21) \n",
        "person2 = Person.fromBirthYear('mayank', 1996) \n",
        "  \n",
        "print( person1.age )\n",
        "print (person2.age )\n",
        "  \n",
        "# print the result \n",
        "print( Person.isAdult(22) )"
      ],
      "execution_count": 70,
      "outputs": [
        {
          "output_type": "stream",
          "text": [
            "21\n",
            "24\n",
            "True\n"
          ],
          "name": "stdout"
        }
      ]
    },
    {
      "cell_type": "code",
      "metadata": {
        "id": "vTgQCwKt80iS",
        "colab_type": "code",
        "colab": {}
      },
      "source": [
        "def emp():\n",
        "    pass\n",
        "\n",
        "emp()"
      ],
      "execution_count": 0,
      "outputs": []
    },
    {
      "cell_type": "markdown",
      "metadata": {
        "id": "_iayUlrH96wt",
        "colab_type": "text"
      },
      "source": [
        "Return sends a specified value back to its caller whereas Yield can produce a sequence of values. We should use yield when we want to iterate over a sequence, but don’t want to store the entire sequence in memory.\n",
        "\n",
        "Yield are used in Python generators. A generator function is defined like a normal function, but whenever it needs to generate a value, it does so with the yield keyword rather than return. If the body of a def contains yield, the function automatically becomes a generator function."
      ]
    },
    {
      "cell_type": "code",
      "metadata": {
        "id": "7X7OD-nM90yd",
        "colab_type": "code",
        "colab": {
          "base_uri": "https://localhost:8080/",
          "height": 191
        },
        "outputId": "51d64b60-ad04-4512-eab5-ed3f2e11fea4"
      },
      "source": [
        "def next():\n",
        "    i=1\n",
        "    while True:\n",
        "        yield i*i\n",
        "        i+=1\n",
        "for num in next(): \n",
        "    if num > 100: \n",
        "        break    \n",
        "    print(num) "
      ],
      "execution_count": 76,
      "outputs": [
        {
          "output_type": "stream",
          "text": [
            "1\n",
            "4\n",
            "9\n",
            "16\n",
            "25\n",
            "36\n",
            "49\n",
            "64\n",
            "81\n",
            "100\n"
          ],
          "name": "stdout"
        }
      ]
    },
    {
      "cell_type": "code",
      "metadata": {
        "id": "LO0T7qKp_Uee",
        "colab_type": "code",
        "colab": {
          "base_uri": "https://localhost:8080/",
          "height": 382
        },
        "outputId": "fecfa53f-52c6-44e0-a303-7768f61dcaeb"
      },
      "source": [
        "class Person():\n",
        "\n",
        "    def __init__(self):\n",
        "        self.name = 'geeks'\n",
        "        self.age = 33\n",
        "\n",
        "    def value():\n",
        "        return Person()\n",
        "\n",
        "    a = value()\n",
        "    print(a.name)\n",
        "    print(a.age)"
      ],
      "execution_count": 79,
      "outputs": [
        {
          "output_type": "error",
          "ename": "TypeError",
          "evalue": "ignored",
          "traceback": [
            "\u001b[0;31m---------------------------------------------------------------------------\u001b[0m",
            "\u001b[0;31mTypeError\u001b[0m                                 Traceback (most recent call last)",
            "\u001b[0;32m<ipython-input-79-5b5d49bdd7ce>\u001b[0m in \u001b[0;36m<module>\u001b[0;34m()\u001b[0m\n\u001b[0;32m----> 1\u001b[0;31m \u001b[0;32mclass\u001b[0m \u001b[0mPerson\u001b[0m\u001b[0;34m(\u001b[0m\u001b[0;34m)\u001b[0m\u001b[0;34m:\u001b[0m\u001b[0;34m\u001b[0m\u001b[0;34m\u001b[0m\u001b[0m\n\u001b[0m\u001b[1;32m      2\u001b[0m \u001b[0;34m\u001b[0m\u001b[0m\n\u001b[1;32m      3\u001b[0m     \u001b[0;32mdef\u001b[0m \u001b[0m__init__\u001b[0m\u001b[0;34m(\u001b[0m\u001b[0mself\u001b[0m\u001b[0;34m)\u001b[0m\u001b[0;34m:\u001b[0m\u001b[0;34m\u001b[0m\u001b[0;34m\u001b[0m\u001b[0m\n\u001b[1;32m      4\u001b[0m         \u001b[0mself\u001b[0m\u001b[0;34m.\u001b[0m\u001b[0mname\u001b[0m \u001b[0;34m=\u001b[0m \u001b[0;34m'geeks'\u001b[0m\u001b[0;34m\u001b[0m\u001b[0;34m\u001b[0m\u001b[0m\n\u001b[1;32m      5\u001b[0m         \u001b[0mself\u001b[0m\u001b[0;34m.\u001b[0m\u001b[0mage\u001b[0m \u001b[0;34m=\u001b[0m \u001b[0;36m33\u001b[0m\u001b[0;34m\u001b[0m\u001b[0;34m\u001b[0m\u001b[0m\n",
            "\u001b[0;32m<ipython-input-79-5b5d49bdd7ce>\u001b[0m in \u001b[0;36mPerson\u001b[0;34m()\u001b[0m\n\u001b[1;32m      8\u001b[0m         \u001b[0;32mreturn\u001b[0m \u001b[0mPerson\u001b[0m\u001b[0;34m(\u001b[0m\u001b[0;34m)\u001b[0m\u001b[0;34m\u001b[0m\u001b[0;34m\u001b[0m\u001b[0m\n\u001b[1;32m      9\u001b[0m \u001b[0;34m\u001b[0m\u001b[0m\n\u001b[0;32m---> 10\u001b[0;31m     \u001b[0ma\u001b[0m \u001b[0;34m=\u001b[0m \u001b[0mvalue\u001b[0m\u001b[0;34m(\u001b[0m\u001b[0;34m)\u001b[0m\u001b[0;34m\u001b[0m\u001b[0;34m\u001b[0m\u001b[0m\n\u001b[0m\u001b[1;32m     11\u001b[0m     \u001b[0mprint\u001b[0m\u001b[0;34m(\u001b[0m\u001b[0ma\u001b[0m\u001b[0;34m.\u001b[0m\u001b[0mname\u001b[0m\u001b[0;34m)\u001b[0m\u001b[0;34m\u001b[0m\u001b[0;34m\u001b[0m\u001b[0m\n\u001b[1;32m     12\u001b[0m     \u001b[0mprint\u001b[0m\u001b[0;34m(\u001b[0m\u001b[0ma\u001b[0m\u001b[0;34m.\u001b[0m\u001b[0mage\u001b[0m\u001b[0;34m)\u001b[0m\u001b[0;34m\u001b[0m\u001b[0;34m\u001b[0m\u001b[0m\n",
            "\u001b[0;32m<ipython-input-79-5b5d49bdd7ce>\u001b[0m in \u001b[0;36mvalue\u001b[0;34m()\u001b[0m\n\u001b[1;32m      6\u001b[0m \u001b[0;34m\u001b[0m\u001b[0m\n\u001b[1;32m      7\u001b[0m     \u001b[0;32mdef\u001b[0m \u001b[0mvalue\u001b[0m\u001b[0;34m(\u001b[0m\u001b[0;34m)\u001b[0m\u001b[0;34m:\u001b[0m\u001b[0;34m\u001b[0m\u001b[0;34m\u001b[0m\u001b[0m\n\u001b[0;32m----> 8\u001b[0;31m         \u001b[0;32mreturn\u001b[0m \u001b[0mPerson\u001b[0m\u001b[0;34m(\u001b[0m\u001b[0;34m)\u001b[0m\u001b[0;34m\u001b[0m\u001b[0;34m\u001b[0m\u001b[0m\n\u001b[0m\u001b[1;32m      9\u001b[0m \u001b[0;34m\u001b[0m\u001b[0m\n\u001b[1;32m     10\u001b[0m     \u001b[0ma\u001b[0m \u001b[0;34m=\u001b[0m \u001b[0mvalue\u001b[0m\u001b[0;34m(\u001b[0m\u001b[0;34m)\u001b[0m\u001b[0;34m\u001b[0m\u001b[0;34m\u001b[0m\u001b[0m\n",
            "\u001b[0;31mTypeError\u001b[0m: __init__() missing 2 required positional arguments: 'name' and 'age'"
          ]
        }
      ]
    },
    {
      "cell_type": "code",
      "metadata": {
        "id": "Wd_Oj48zBsRY",
        "colab_type": "code",
        "colab": {
          "base_uri": "https://localhost:8080/",
          "height": 86
        },
        "outputId": "a2f8c628-5a25-4d2f-bb9c-a7229bfce316"
      },
      "source": [
        "class Test: \n",
        "    def __init__(self): \n",
        "        self.str = \"geeksforgeeks\"\n",
        "        self.x = 20   \n",
        "  \n",
        "# This function returns an object of Test \n",
        "def fun(): \n",
        "    return Test() \n",
        "      \n",
        "# Driver code to test above method \n",
        "t = fun()  \n",
        "print(t.str) \n",
        "print(t.x)\n",
        "\n",
        "def funn(): \n",
        "    str = \"geeksforgeeks\"\n",
        "    x   = 20\n",
        "    return str, x; \n",
        "\n",
        "# Driver code to test above method \n",
        "str, x = funn() # Assign returned tuple \n",
        "print(str) \n",
        "print(x)"
      ],
      "execution_count": 83,
      "outputs": [
        {
          "output_type": "stream",
          "text": [
            "geeksforgeeks\n",
            "20\n",
            "geeksforgeeks\n",
            "20\n"
          ],
          "name": "stdout"
        }
      ]
    },
    {
      "cell_type": "code",
      "metadata": {
        "id": "ArqzA_45B4cO",
        "colab_type": "code",
        "colab": {
          "base_uri": "https://localhost:8080/",
          "height": 34
        },
        "outputId": "fc2581f9-33ed-4c1d-9580-abecf22a5783"
      },
      "source": [
        "def fun(): \n",
        "    str = \"geeksforgeeks\"\n",
        "    x = 20   \n",
        "    return [str, x];   \n",
        "  \n",
        "# Driver code to test above method \n",
        "list = fun()  \n",
        "print(list) "
      ],
      "execution_count": 84,
      "outputs": [
        {
          "output_type": "stream",
          "text": [
            "['geeksforgeeks', 20]\n"
          ],
          "name": "stdout"
        }
      ]
    },
    {
      "cell_type": "code",
      "metadata": {
        "id": "YP33Oy3iDA0v",
        "colab_type": "code",
        "colab": {
          "base_uri": "https://localhost:8080/",
          "height": 34
        },
        "outputId": "21a2537a-27b3-417c-fcaa-b420d553d0e5"
      },
      "source": [
        "def fun(): \n",
        "    d = dict();  \n",
        "    d['str'] = \"GeeksforGeeks\"\n",
        "    d['x']   = 20\n",
        "    return d \n",
        "  \n",
        "# Driver code to test above method \n",
        "d = fun()  \n",
        "print(d) "
      ],
      "execution_count": 85,
      "outputs": [
        {
          "output_type": "stream",
          "text": [
            "{'str': 'GeeksforGeeks', 'x': 20}\n"
          ],
          "name": "stdout"
        }
      ]
    },
    {
      "cell_type": "code",
      "metadata": {
        "id": "eAdD99Z1DDvm",
        "colab_type": "code",
        "colab": {
          "base_uri": "https://localhost:8080/",
          "height": 34
        },
        "outputId": "8f38bbbb-f626-469b-f215-1de4bd90695f"
      },
      "source": [
        "from functools import partial\n",
        "\n",
        "def f(a,b,c,x):\n",
        "    return 1000*a + 100*b + 10*c +x\n",
        "\n",
        "p = partial(f,4,5,6)\n",
        "print(p(7))"
      ],
      "execution_count": 87,
      "outputs": [
        {
          "output_type": "stream",
          "text": [
            "4567\n"
          ],
          "name": "stdout"
        }
      ]
    },
    {
      "cell_type": "code",
      "metadata": {
        "id": "L7oi0d_8GPzj",
        "colab_type": "code",
        "colab": {
          "base_uri": "https://localhost:8080/",
          "height": 34
        },
        "outputId": "61845ff6-0fb2-4c53-bc10-8f0cbd4473cf"
      },
      "source": [
        "from functools import *\n",
        "  \n",
        "# A normal function \n",
        "def add(a, b, c): \n",
        "    return 100 * a + 10 * b + c \n",
        "  \n",
        "# A partial function with b = 1 and c = 2 \n",
        "add_part = partial(add, c = 2, b = 1) \n",
        "  \n",
        "# Calling partial function \n",
        "print(add_part(3)) "
      ],
      "execution_count": 88,
      "outputs": [
        {
          "output_type": "stream",
          "text": [
            "312\n"
          ],
          "name": "stdout"
        }
      ]
    },
    {
      "cell_type": "code",
      "metadata": {
        "id": "98sK-so6Ggf2",
        "colab_type": "code",
        "colab": {
          "base_uri": "https://localhost:8080/",
          "height": 52
        },
        "outputId": "6b7fb9d3-675d-4f37-ce84-1c655814f496"
      },
      "source": [
        "def shout(text):\n",
        "    print(text.upper())\n",
        "def whisper(text):\n",
        "    print(text.lower())\n",
        "\n",
        "def greetings(func, func2):\n",
        "    func(\"Hello there i am here !\")\n",
        "    func2(\"Second fucntion using for whisper\")\n",
        "\n",
        "greetings(shout,whisper)"
      ],
      "execution_count": 92,
      "outputs": [
        {
          "output_type": "stream",
          "text": [
            "HELLO THERE I AM HERE !\n",
            "second fucntion using for whisper\n"
          ],
          "name": "stdout"
        }
      ]
    },
    {
      "cell_type": "code",
      "metadata": {
        "id": "0QwHr68dHsX3",
        "colab_type": "code",
        "colab": {
          "base_uri": "https://localhost:8080/",
          "height": 121
        },
        "outputId": "64427eb5-fe4f-40fa-f06a-89b6c5b48de7"
      },
      "source": [
        "s = 'hekko ther i am goin fine'\n",
        "\n",
        "for i in s.split(\" \"):\n",
        "    for j in range(len(i)):\n",
        "        if j==0:\n",
        "            a = i[j].upper()\n",
        "            m = a+i[1:]\n",
        "            print(m)\n",
        "        \n",
        "\n"
      ],
      "execution_count": 98,
      "outputs": [
        {
          "output_type": "stream",
          "text": [
            "Hekko\n",
            "Ther\n",
            "I\n",
            "Am\n",
            "Goin\n",
            "Fine\n"
          ],
          "name": "stdout"
        }
      ]
    },
    {
      "cell_type": "code",
      "metadata": {
        "id": "Ugs7W0QYIM-U",
        "colab_type": "code",
        "colab": {
          "base_uri": "https://localhost:8080/",
          "height": 104
        },
        "outputId": "ce7ce523-5e3a-4094-8d0f-f31c7fadc052"
      },
      "source": [
        "s = 'Heiko'\n",
        "\n",
        "for i in s.split(\" \"):\n",
        "    for j in range(len(i)):\n",
        "        if i[j].isupper():\n",
        "            a = i[j].lower()\n",
        "            m = i[:j]+a+i[j+1:]\n",
        "            print(m)\n",
        "        if i[j].islower():\n",
        "            a = i[j].upper()\n",
        "            m = i[:j]+a+i[j+1:]\n",
        "            print(m)"
      ],
      "execution_count": 104,
      "outputs": [
        {
          "output_type": "stream",
          "text": [
            "heiko\n",
            "HEiko\n",
            "HeIko\n",
            "HeiKo\n",
            "HeikO\n"
          ],
          "name": "stdout"
        }
      ]
    },
    {
      "cell_type": "code",
      "metadata": {
        "id": "ptOVqbPlJ0R0",
        "colab_type": "code",
        "colab": {
          "base_uri": "https://localhost:8080/",
          "height": 34
        },
        "outputId": "8f9c220c-2b91-4a6b-9285-63456119548e"
      },
      "source": [
        "def create(x):\n",
        "    def adder(y):\n",
        "        return x+y\n",
        "    return adder\n",
        "\n",
        "add = create(20)\n",
        "add(4)"
      ],
      "execution_count": 106,
      "outputs": [
        {
          "output_type": "execute_result",
          "data": {
            "text/plain": [
              "24"
            ]
          },
          "metadata": {
            "tags": []
          },
          "execution_count": 106
        }
      ]
    },
    {
      "cell_type": "code",
      "metadata": {
        "id": "IYmbOh4_Ov_R",
        "colab_type": "code",
        "colab": {
          "base_uri": "https://localhost:8080/",
          "height": 69
        },
        "outputId": "10c77d5c-4b1b-482c-a8e3-bf0f02d1d065"
      },
      "source": [
        "#1. trunc() :- This function is used to eliminate all decimal part\n",
        "# of the floating point number and return the integer without the\n",
        "# decimal part.\n",
        "import math\n",
        "a = 5.67\n",
        "b = 4.4\n",
        "\n",
        "print(math.trunc(a)) \n",
        "print(math.ceil(a))\n",
        "print(math.floor(a))"
      ],
      "execution_count": 109,
      "outputs": [
        {
          "output_type": "stream",
          "text": [
            "5\n",
            "6\n",
            "5\n"
          ],
          "name": "stdout"
        }
      ]
    },
    {
      "cell_type": "code",
      "metadata": {
        "id": "NSDYq76cPH6A",
        "colab_type": "code",
        "colab": {
          "base_uri": "https://localhost:8080/",
          "height": 34
        },
        "outputId": "f70ed723-9209-45fb-f4c9-e79f5e64a69c"
      },
      "source": [
        "a = 3.53848752\n",
        "\n",
        "round(a,4)"
      ],
      "execution_count": 111,
      "outputs": [
        {
          "output_type": "execute_result",
          "data": {
            "text/plain": [
              "3.5385"
            ]
          },
          "metadata": {
            "tags": []
          },
          "execution_count": 111
        }
      ]
    },
    {
      "cell_type": "code",
      "metadata": {
        "id": "lID41Nl-QCD9",
        "colab_type": "code",
        "colab": {
          "base_uri": "https://localhost:8080/",
          "height": 86
        },
        "outputId": "1163a54b-e14d-4fe2-d672-f09b01d730c8"
      },
      "source": [
        "# Python program to illustrate  \n",
        "# *args with first extra argument \n",
        "def myFun(arg1, *argv): \n",
        "    print (\"First argument :\", arg1) \n",
        "    for arg in argv: \n",
        "        print(\"Next argument through *argv :\", arg) \n",
        "  \n",
        "myFun('Hello', 'Welcome', 'to', 'GeeksforGeeks') "
      ],
      "execution_count": 112,
      "outputs": [
        {
          "output_type": "stream",
          "text": [
            "First argument : Hello\n",
            "Next argument through *argv : Welcome\n",
            "Next argument through *argv : to\n",
            "Next argument through *argv : GeeksforGeeks\n"
          ],
          "name": "stdout"
        }
      ]
    },
    {
      "cell_type": "code",
      "metadata": {
        "id": "qMDAziCLQ-XL",
        "colab_type": "code",
        "colab": {
          "base_uri": "https://localhost:8080/",
          "height": 86
        },
        "outputId": "60ef48bd-dc03-4164-b58e-dfe8fc52783e"
      },
      "source": [
        "def myFun(arg1, *argv): \n",
        "    print (\"First argument :\", arg1) \n",
        "    for arg in argv: \n",
        "        print(\"Next argument through *argv :\", arg) \n",
        "  \n",
        "t = ( 'Welcome', 'to', 'GeeksforGeeks')\n",
        "myFun('Hello',*t)"
      ],
      "execution_count": 114,
      "outputs": [
        {
          "output_type": "stream",
          "text": [
            "First argument : Hello\n",
            "Next argument through *argv : Welcome\n",
            "Next argument through *argv : to\n",
            "Next argument through *argv : GeeksforGeeks\n"
          ],
          "name": "stdout"
        }
      ]
    },
    {
      "cell_type": "code",
      "metadata": {
        "id": "DyosdtCwRD-7",
        "colab_type": "code",
        "colab": {
          "base_uri": "https://localhost:8080/",
          "height": 52
        },
        "outputId": "39590523-2463-48e1-f4f5-1bc332780b8e"
      },
      "source": [
        "def myFun(*args,**kwargs): \n",
        "    print(\"args: \", args) \n",
        "    print(\"kwargs: \", kwargs) \n",
        "  \n",
        "  \n",
        "# Now we can use both *args ,**kwargs to pass arguments to this function : \n",
        "myFun('geeks','for','geeks',first=\"Geeks\",mid=\"for\",last=\"Geeks\") \n"
      ],
      "execution_count": 115,
      "outputs": [
        {
          "output_type": "stream",
          "text": [
            "args:  ('geeks', 'for', 'geeks')\n",
            "kwargs:  {'first': 'Geeks', 'mid': 'for', 'last': 'Geeks'}\n"
          ],
          "name": "stdout"
        }
      ]
    },
    {
      "cell_type": "code",
      "metadata": {
        "id": "vaWIxkg1Rhlb",
        "colab_type": "code",
        "colab": {
          "base_uri": "https://localhost:8080/",
          "height": 121
        },
        "outputId": "a3feecf0-de45-4a75-95da-ff6c73ac5a13"
      },
      "source": [
        "def myFun(arg1, arg2, arg3): \n",
        "    print(\"arg1:\", arg1) \n",
        "    print(\"arg2:\", arg2) \n",
        "    print(\"arg3:\", arg3) \n",
        "      \n",
        "# Now we can use *args or **kwargs to \n",
        "# pass arguments to this function :  \n",
        "args = (\"Geeks\", \"for\", \"Geeks\") \n",
        "myFun(*args) \n",
        "  \n",
        "kwargs = {\"arg1\" : \"Geeks\", \"arg2\" : \"for\", \"arg3\" : \"Geeks\"} \n",
        "myFun(**kwargs) "
      ],
      "execution_count": 116,
      "outputs": [
        {
          "output_type": "stream",
          "text": [
            "arg1: Geeks\n",
            "arg2: for\n",
            "arg3: Geeks\n",
            "arg1: Geeks\n",
            "arg2: for\n",
            "arg3: Geeks\n"
          ],
          "name": "stdout"
        }
      ]
    },
    {
      "cell_type": "code",
      "metadata": {
        "id": "anclYcuoRtX3",
        "colab_type": "code",
        "colab": {
          "base_uri": "https://localhost:8080/",
          "height": 34
        },
        "outputId": "24697a2d-bcfa-47ed-bbb7-0deb2f883d69"
      },
      "source": [
        "def outer(text):\n",
        "    text = text\n",
        "\n",
        "    def inner():\n",
        "        print(text)\n",
        "    inner()\n",
        "\n",
        "\n",
        "if __name__ == \"__main__\":\n",
        "    outer(\"hello\")\n",
        "    "
      ],
      "execution_count": 118,
      "outputs": [
        {
          "output_type": "stream",
          "text": [
            "hello\n"
          ],
          "name": "stdout"
        }
      ]
    },
    {
      "cell_type": "code",
      "metadata": {
        "id": "ZMcqJ-QwUF_b",
        "colab_type": "code",
        "colab": {}
      },
      "source": [
        "def outer(text):\n",
        "    text = text\n",
        "    def inner():\n",
        "        print(text)\n",
        "    return inner\n",
        "\n",
        "outerf = outer(\"HEY\")\n",
        "outerf()\n"
      ],
      "execution_count": 0,
      "outputs": []
    },
    {
      "cell_type": "code",
      "metadata": {
        "id": "7Rk6tbJPVTYJ",
        "colab_type": "code",
        "colab": {
          "base_uri": "https://localhost:8080/",
          "height": 86
        },
        "outputId": "a8d499a4-a8c9-49d7-c48e-a7340b53372b"
      },
      "source": [
        "# Python program to illustrate \n",
        "# closures \n",
        "import logging \n",
        "logging.basicConfig(filename='example.log', level=logging.INFO) \n",
        "  \n",
        "  \n",
        "def logger(func): \n",
        "    def log_func(*args): \n",
        "        logging.info( \n",
        "            'Running \"{}\" with arguments {}'.format(func.__name__, args)) \n",
        "        print(func(*args)) \n",
        "    # Necessary for closure to work (returning WITHOUT parenthesis) \n",
        "    return log_func               \n",
        "  \n",
        "def add(x, y): \n",
        "    return x+y \n",
        "  \n",
        "def sub(x, y): \n",
        "    return x-y \n",
        "  \n",
        "add_logger = logger(add) \n",
        "sub_logger = logger(sub) \n",
        "  \n",
        "add_logger(3, 3) \n",
        "add_logger(4, 5) \n",
        "\n",
        "sub_logger(10, 5) \n",
        "sub_logger(20, 10) "
      ],
      "execution_count": 119,
      "outputs": [
        {
          "output_type": "stream",
          "text": [
            "6\n",
            "9\n",
            "5\n",
            "10\n"
          ],
          "name": "stdout"
        }
      ]
    },
    {
      "cell_type": "code",
      "metadata": {
        "id": "t2-CUIwQXU4e",
        "colab_type": "code",
        "colab": {
          "base_uri": "https://localhost:8080/",
          "height": 34
        },
        "outputId": "e8c454da-f6eb-428c-e449-723d83c8bf3e"
      },
      "source": [
        "def msgwelcome(msg):\n",
        "    def addwelcome():\n",
        "        return \"welcome to\"\n",
        "    \n",
        "    return addwelcome()+msg\n",
        "\n",
        "msgwelcome(\" Website\")"
      ],
      "execution_count": 124,
      "outputs": [
        {
          "output_type": "execute_result",
          "data": {
            "text/plain": [
              "'welcome to Website'"
            ]
          },
          "metadata": {
            "tags": []
          },
          "execution_count": 124
        }
      ]
    },
    {
      "cell_type": "code",
      "metadata": {
        "id": "67VsujaEYUln",
        "colab_type": "code",
        "colab": {
          "base_uri": "https://localhost:8080/",
          "height": 34
        },
        "outputId": "a4d747cb-9c18-476f-a494-330e24b37eac"
      },
      "source": [
        "# Adds a welcome message to the string \n",
        "# returned by fun(). Takes fun() as \n",
        "# parameter and returns welcome(). \n",
        "def decorate_message(fun): \n",
        "  \n",
        "    # Nested function \n",
        "    def addWelcome(site_name): \n",
        "        return \"Welcome to \" + fun(site_name) \n",
        "  \n",
        "    # Decorator returns a function \n",
        "    return addWelcome \n",
        "  \n",
        "@decorate_message\n",
        "def site(site_name): \n",
        "    return site_name; \n",
        "  \n",
        "# Driver code \n",
        "  \n",
        "# This call is equivalent to call to \n",
        "# decorate_message() with function \n",
        "# site(\"GeeksforGeeks\") as parameter \n",
        "print(site(\"GeeksforGeeks\"))"
      ],
      "execution_count": 127,
      "outputs": [
        {
          "output_type": "stream",
          "text": [
            "Welcome to GeeksforGeeks\n"
          ],
          "name": "stdout"
        }
      ]
    },
    {
      "cell_type": "code",
      "metadata": {
        "id": "VYqIEMMQajPk",
        "colab_type": "code",
        "colab": {
          "base_uri": "https://localhost:8080/",
          "height": 52
        },
        "outputId": "bc1a80fb-18c4-4c97-880d-f93b1ab68610"
      },
      "source": [
        "# A Python example to demonstrate that \n",
        "# decorators can be useful attach data \n",
        "  \n",
        "# A decorator function to attach \n",
        "# data to func \n",
        "def attach_data(func): \n",
        "       func.data = 3\n",
        "       return func \n",
        "  \n",
        "@attach_data\n",
        "def add (x, y): \n",
        "       return x + y \n",
        "  \n",
        "# Driver code \n",
        "  \n",
        "# This call is equivalent to attach_data() \n",
        "# with add() as parameter \n",
        "print(add(2, 3)) \n",
        "  \n",
        "print(add.data)"
      ],
      "execution_count": 128,
      "outputs": [
        {
          "output_type": "stream",
          "text": [
            "5\n",
            "3\n"
          ],
          "name": "stdout"
        }
      ]
    },
    {
      "cell_type": "code",
      "metadata": {
        "id": "iORvL1L0aqPB",
        "colab_type": "code",
        "colab": {
          "base_uri": "https://localhost:8080/",
          "height": 34
        },
        "outputId": "8e36f5e7-d6e9-4b98-a2a7-e2aa3f26dac1"
      },
      "source": [
        "next()"
      ],
      "execution_count": 131,
      "outputs": [
        {
          "output_type": "execute_result",
          "data": {
            "text/plain": [
              "<generator object next at 0x7fc17460f938>"
            ]
          },
          "metadata": {
            "tags": []
          },
          "execution_count": 131
        }
      ]
    },
    {
      "cell_type": "code",
      "metadata": {
        "id": "FMKQs3MrjTGu",
        "colab_type": "code",
        "colab": {
          "base_uri": "https://localhost:8080/",
          "height": 34
        },
        "outputId": "aa7b861b-a998-4a2f-8974-1070da774daa"
      },
      "source": [
        "range(10)"
      ],
      "execution_count": 132,
      "outputs": [
        {
          "output_type": "execute_result",
          "data": {
            "text/plain": [
              "range(0, 10)"
            ]
          },
          "metadata": {
            "tags": []
          },
          "execution_count": 132
        }
      ]
    },
    {
      "cell_type": "code",
      "metadata": {
        "id": "eeKdXpB_ju5P",
        "colab_type": "code",
        "colab": {
          "base_uri": "https://localhost:8080/",
          "height": 34
        },
        "outputId": "1c9254c5-654f-4d24-ec61-1393553a6479"
      },
      "source": [
        "iter(range(10))"
      ],
      "execution_count": 133,
      "outputs": [
        {
          "output_type": "execute_result",
          "data": {
            "text/plain": [
              "<range_iterator at 0x7fc1772a1c60>"
            ]
          },
          "metadata": {
            "tags": []
          },
          "execution_count": 133
        }
      ]
    },
    {
      "cell_type": "code",
      "metadata": {
        "id": "Zw-ZBnarjxrS",
        "colab_type": "code",
        "colab": {
          "base_uri": "https://localhost:8080/",
          "height": 86
        },
        "outputId": "83d673f4-ecb0-4f09-ef0d-96b437480913"
      },
      "source": [
        "demo = range(2,199,3)\n",
        "\n",
        "print(demo)\n",
        "print(demo.step)\n",
        "print(demo.index(26))\n",
        "print(demo.index(29))\n"
      ],
      "execution_count": 144,
      "outputs": [
        {
          "output_type": "stream",
          "text": [
            "range(2, 199, 3)\n",
            "3\n",
            "8\n",
            "9\n"
          ],
          "name": "stdout"
        }
      ]
    },
    {
      "cell_type": "code",
      "metadata": {
        "id": "Eb3I9y27kFWi",
        "colab_type": "code",
        "colab": {
          "base_uri": "https://localhost:8080/",
          "height": 86
        },
        "outputId": "ffe2c68c-6812-4454-c947-e618f3c216fd"
      },
      "source": [
        "def myfunction(text):\n",
        "    return text\n",
        "    '''returns the text given by the user '''\n",
        "\n",
        "myfunction(\"nayem\")\n",
        "help(myfunction)"
      ],
      "execution_count": 147,
      "outputs": [
        {
          "output_type": "stream",
          "text": [
            "Help on function myfunction in module __main__:\n",
            "\n",
            "myfunction(text)\n",
            "\n"
          ],
          "name": "stdout"
        }
      ]
    },
    {
      "cell_type": "code",
      "metadata": {
        "id": "9HNUK1JvmTJ3",
        "colab_type": "code",
        "colab": {
          "base_uri": "https://localhost:8080/",
          "height": 453
        },
        "outputId": "f1307d77-ad3e-4f05-8489-de715ffc7ed7"
      },
      "source": [
        "class Helper: \n",
        "    def __init__(self): \n",
        "        '''The helper class is initialized'''\n",
        "  \n",
        "    def print_help(self): \n",
        "        '''Returns the help description'''\n",
        "        print('helper description') \n",
        "  \n",
        "help(Helper) \n",
        "help(Helper.print_help) "
      ],
      "execution_count": 148,
      "outputs": [
        {
          "output_type": "stream",
          "text": [
            "Help on class Helper in module __main__:\n",
            "\n",
            "class Helper(builtins.object)\n",
            " |  Methods defined here:\n",
            " |  \n",
            " |  __init__(self)\n",
            " |      The helper class is initialized\n",
            " |  \n",
            " |  print_help(self)\n",
            " |      Returns the help description\n",
            " |  \n",
            " |  ----------------------------------------------------------------------\n",
            " |  Data descriptors defined here:\n",
            " |  \n",
            " |  __dict__\n",
            " |      dictionary for instance variables (if defined)\n",
            " |  \n",
            " |  __weakref__\n",
            " |      list of weak references to the object (if defined)\n",
            "\n",
            "Help on function print_help in module __main__:\n",
            "\n",
            "print_help(self)\n",
            "    Returns the help description\n",
            "\n"
          ],
          "name": "stdout"
        }
      ]
    },
    {
      "cell_type": "markdown",
      "metadata": {
        "id": "7Hvgh4XVpZZe",
        "colab_type": "text"
      },
      "source": [
        "## Exception handling in python"
      ]
    },
    {
      "cell_type": "code",
      "metadata": {
        "id": "xj_-Xu9bmlgc",
        "colab_type": "code",
        "colab": {
          "base_uri": "https://localhost:8080/",
          "height": 34
        },
        "outputId": "d43d3e7d-b4c8-4a69-c06c-8b5bfc0a08e6"
      },
      "source": [
        "try :\n",
        "    n = 3\n",
        "    r = n/(n-3)\n",
        "    print(r)\n",
        "except (ZeroDivisionError, NameError) as e:\n",
        "    print(\"Error occurred : \",e)\n"
      ],
      "execution_count": 151,
      "outputs": [
        {
          "output_type": "stream",
          "text": [
            "Error occurred :  division by zero\n"
          ],
          "name": "stdout"
        }
      ]
    },
    {
      "cell_type": "code",
      "metadata": {
        "id": "L9wRqLipobRX",
        "colab_type": "code",
        "colab": {
          "base_uri": "https://localhost:8080/",
          "height": 52
        },
        "outputId": "e89b8a69-d58a-4e2b-b7dd-6b5b14d166dc"
      },
      "source": [
        "def subtract(a,b):\n",
        "\n",
        "    try:\n",
        "        print(a/b)\n",
        "    except (ZeroDivisionError, TypeError, NameError) as e:\n",
        "        print(\"Error occured : \",e)\n",
        "    else:\n",
        "        print(\"subtraction done\")\n",
        "    finally:\n",
        "        print(\"I am finally clause, always raised\")\n",
        "subtract(6,0)\n"
      ],
      "execution_count": 158,
      "outputs": [
        {
          "output_type": "stream",
          "text": [
            "Error occured :  division by zero\n",
            "I am finally clause, always raised\n"
          ],
          "name": "stdout"
        }
      ]
    },
    {
      "cell_type": "code",
      "metadata": {
        "id": "ovC8eJSqobi_",
        "colab_type": "code",
        "colab": {
          "base_uri": "https://localhost:8080/",
          "height": 34
        },
        "outputId": "fcd7d635-a666-4dcd-f896-c1aa76d7cb67"
      },
      "source": [
        "try:\n",
        "    raise NameError(\"this is name error\")\n",
        "except NameError:\n",
        "    print(\"Name error is found\")\n",
        "    "
      ],
      "execution_count": 157,
      "outputs": [
        {
          "output_type": "stream",
          "text": [
            "Name error is found\n"
          ],
          "name": "stdout"
        }
      ]
    },
    {
      "cell_type": "code",
      "metadata": {
        "id": "KRO1c7Unobm-",
        "colab_type": "code",
        "colab": {
          "base_uri": "https://localhost:8080/",
          "height": 341
        },
        "outputId": "c994a2c6-b293-44de-eb9c-ed1abd8b2dcf"
      },
      "source": [
        "# Python code to illustrate \n",
        "# clean up actions \n",
        "def divide(x, y): \n",
        "    try: \n",
        "        # Floor Division : Gives only Fractional Part as Answer \n",
        "        result = x // y \n",
        "    except ZeroDivisionError: \n",
        "        print(\"Sorry ! You are dividing by zero \") \n",
        "    else: \n",
        "        print(\"Yeah ! Your answer is :\", result) \n",
        "    finally: \n",
        "        print(\"I'm finally clause, always raised !! \") \n",
        "  \n",
        "# Look at parameters and note the working of Program \n",
        "divide(3, \"3\")"
      ],
      "execution_count": 159,
      "outputs": [
        {
          "output_type": "stream",
          "text": [
            "I'm finally clause, always raised !! \n"
          ],
          "name": "stdout"
        },
        {
          "output_type": "error",
          "ename": "TypeError",
          "evalue": "ignored",
          "traceback": [
            "\u001b[0;31m---------------------------------------------------------------------------\u001b[0m",
            "\u001b[0;31mTypeError\u001b[0m                                 Traceback (most recent call last)",
            "\u001b[0;32m<ipython-input-159-861b0b64c050>\u001b[0m in \u001b[0;36m<module>\u001b[0;34m()\u001b[0m\n\u001b[1;32m     11\u001b[0m \u001b[0;34m\u001b[0m\u001b[0m\n\u001b[1;32m     12\u001b[0m \u001b[0;31m# Look at parameters and note the working of Program\u001b[0m\u001b[0;34m\u001b[0m\u001b[0;34m\u001b[0m\u001b[0;34m\u001b[0m\u001b[0m\n\u001b[0;32m---> 13\u001b[0;31m \u001b[0mdivide\u001b[0m\u001b[0;34m(\u001b[0m\u001b[0;36m3\u001b[0m\u001b[0;34m,\u001b[0m \u001b[0;34m\"3\"\u001b[0m\u001b[0;34m)\u001b[0m\u001b[0;34m\u001b[0m\u001b[0;34m\u001b[0m\u001b[0m\n\u001b[0m",
            "\u001b[0;32m<ipython-input-159-861b0b64c050>\u001b[0m in \u001b[0;36mdivide\u001b[0;34m(x, y)\u001b[0m\n\u001b[1;32m      2\u001b[0m     \u001b[0;32mtry\u001b[0m\u001b[0;34m:\u001b[0m\u001b[0;34m\u001b[0m\u001b[0;34m\u001b[0m\u001b[0m\n\u001b[1;32m      3\u001b[0m         \u001b[0;31m# Floor Division : Gives only Fractional Part as Answer\u001b[0m\u001b[0;34m\u001b[0m\u001b[0;34m\u001b[0m\u001b[0;34m\u001b[0m\u001b[0m\n\u001b[0;32m----> 4\u001b[0;31m         \u001b[0mresult\u001b[0m \u001b[0;34m=\u001b[0m \u001b[0mx\u001b[0m \u001b[0;34m//\u001b[0m \u001b[0my\u001b[0m\u001b[0;34m\u001b[0m\u001b[0;34m\u001b[0m\u001b[0m\n\u001b[0m\u001b[1;32m      5\u001b[0m     \u001b[0;32mexcept\u001b[0m \u001b[0mZeroDivisionError\u001b[0m\u001b[0;34m:\u001b[0m\u001b[0;34m\u001b[0m\u001b[0;34m\u001b[0m\u001b[0m\n\u001b[1;32m      6\u001b[0m         \u001b[0mprint\u001b[0m\u001b[0;34m(\u001b[0m\u001b[0;34m\"Sorry ! You are dividing by zero \"\u001b[0m\u001b[0;34m)\u001b[0m\u001b[0;34m\u001b[0m\u001b[0;34m\u001b[0m\u001b[0m\n",
            "\u001b[0;31mTypeError\u001b[0m: unsupported operand type(s) for //: 'int' and 'str'"
          ]
        }
      ]
    },
    {
      "cell_type": "code",
      "metadata": {
        "id": "EVAv2fj5obgu",
        "colab_type": "code",
        "colab": {}
      },
      "source": [
        ""
      ],
      "execution_count": 0,
      "outputs": []
    },
    {
      "cell_type": "code",
      "metadata": {
        "id": "J-CEcFTjobfL",
        "colab_type": "code",
        "colab": {}
      },
      "source": [
        ""
      ],
      "execution_count": 0,
      "outputs": []
    },
    {
      "cell_type": "code",
      "metadata": {
        "id": "a8usMh3sobdi",
        "colab_type": "code",
        "colab": {}
      },
      "source": [
        ""
      ],
      "execution_count": 0,
      "outputs": []
    },
    {
      "cell_type": "code",
      "metadata": {
        "id": "giIEusLKobbz",
        "colab_type": "code",
        "colab": {}
      },
      "source": [
        ""
      ],
      "execution_count": 0,
      "outputs": []
    },
    {
      "cell_type": "code",
      "metadata": {
        "id": "dE78wRH6obZp",
        "colab_type": "code",
        "colab": {}
      },
      "source": [
        ""
      ],
      "execution_count": 0,
      "outputs": []
    },
    {
      "cell_type": "code",
      "metadata": {
        "id": "rRsra_X_obYK",
        "colab_type": "code",
        "colab": {}
      },
      "source": [
        ""
      ],
      "execution_count": 0,
      "outputs": []
    },
    {
      "cell_type": "code",
      "metadata": {
        "id": "HpINGVQqobVd",
        "colab_type": "code",
        "colab": {}
      },
      "source": [
        ""
      ],
      "execution_count": 0,
      "outputs": []
    },
    {
      "cell_type": "code",
      "metadata": {
        "id": "0HzLWZOtobPS",
        "colab_type": "code",
        "colab": {}
      },
      "source": [
        ""
      ],
      "execution_count": 0,
      "outputs": []
    },
    {
      "cell_type": "code",
      "metadata": {
        "id": "8trcMRtwobNG",
        "colab_type": "code",
        "colab": {}
      },
      "source": [
        ""
      ],
      "execution_count": 0,
      "outputs": []
    },
    {
      "cell_type": "code",
      "metadata": {
        "id": "bqHw7-XuobLH",
        "colab_type": "code",
        "colab": {}
      },
      "source": [
        ""
      ],
      "execution_count": 0,
      "outputs": []
    },
    {
      "cell_type": "code",
      "metadata": {
        "id": "8r_qg4LpobI0",
        "colab_type": "code",
        "colab": {}
      },
      "source": [
        ""
      ],
      "execution_count": 0,
      "outputs": []
    },
    {
      "cell_type": "code",
      "metadata": {
        "id": "6xbPLvl9obHD",
        "colab_type": "code",
        "colab": {}
      },
      "source": [
        ""
      ],
      "execution_count": 0,
      "outputs": []
    },
    {
      "cell_type": "code",
      "metadata": {
        "id": "9Q7I1-bgobEl",
        "colab_type": "code",
        "colab": {}
      },
      "source": [
        ""
      ],
      "execution_count": 0,
      "outputs": []
    },
    {
      "cell_type": "code",
      "metadata": {
        "id": "Z6R8ffplobCT",
        "colab_type": "code",
        "colab": {}
      },
      "source": [
        ""
      ],
      "execution_count": 0,
      "outputs": []
    },
    {
      "cell_type": "markdown",
      "metadata": {
        "id": "xD1mGUm_k6CG",
        "colab_type": "text"
      },
      "source": [
        "### need to be checked\n",
        "coroutine- functions, memorization using decorators , decorators in python"
      ]
    }
  ]
}