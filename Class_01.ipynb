{
  "nbformat": 4,
  "nbformat_minor": 0,
  "metadata": {
    "colab": {
      "name": "Class_01.ipynb",
      "provenance": [],
      "collapsed_sections": [],
      "authorship_tag": "ABX9TyPsM+iiDv7ln9UzHYQDw4Om",
      "include_colab_link": true
    },
    "kernelspec": {
      "name": "python3",
      "display_name": "Python 3"
    }
  },
  "cells": [
    {
      "cell_type": "markdown",
      "metadata": {
        "id": "view-in-github",
        "colab_type": "text"
      },
      "source": [
        "<a href=\"https://colab.research.google.com/github/nayeem990/Competitive_Python/blob/master/Class_01.ipynb\" target=\"_parent\"><img src=\"https://colab.research.google.com/assets/colab-badge.svg\" alt=\"Open In Colab\"/></a>"
      ]
    },
    {
      "cell_type": "code",
      "metadata": {
        "id": "FKz81x1s2FxL",
        "colab_type": "code",
        "outputId": "480de977-4931-4b57-a409-765e7202cb08",
        "colab": {
          "base_uri": "https://localhost:8080/",
          "height": 34
        }
      },
      "source": [
        "print(__doc__)"
      ],
      "execution_count": 1,
      "outputs": [
        {
          "output_type": "stream",
          "text": [
            "Automatically created module for IPython interactive environment\n"
          ],
          "name": "stdout"
        }
      ]
    },
    {
      "cell_type": "code",
      "metadata": {
        "id": "8AUN3_Aj2I1C",
        "colab_type": "code",
        "outputId": "3ca50876-44b4-41f6-e70d-609153f6979c",
        "colab": {
          "base_uri": "https://localhost:8080/",
          "height": 84
        }
      },
      "source": [
        "class Person:\n",
        "    #this is the constructor in python\n",
        "    def __init__(self, name, age , op, color):\n",
        "        self.name = name\n",
        "        self.age = age\n",
        "        self.op = op\n",
        "        self.color = color\n",
        "    #Function for printing the values of the employee object\n",
        "    def say(self):\n",
        "        print(\"Hello : \", self.name)\n",
        "        print(self.age)\n",
        "        print(self.op)\n",
        "        print(self.color)\n",
        "    \n",
        "nayem = Person('nayeem',22,'Ml developer','red')\n",
        "nayem.say()"
      ],
      "execution_count": 2,
      "outputs": [
        {
          "output_type": "stream",
          "text": [
            "Hello :  nayeem\n",
            "22\n",
            "Ml developer\n",
            "red\n"
          ],
          "name": "stdout"
        }
      ]
    },
    {
      "cell_type": "code",
      "metadata": {
        "id": "u7gH8kti2Zko",
        "colab_type": "code",
        "outputId": "a9ff94ac-0781-41e8-b078-3d55b27c083d",
        "colab": {
          "base_uri": "https://localhost:8080/",
          "height": 34
        }
      },
      "source": [
        "# A Sample class with init method \n",
        "class Person: \n",
        "  \n",
        "    # init method or constructor  \n",
        "    def __init__(self, name): \n",
        "        self.name = name \n",
        "  \n",
        "    # Sample Method  \n",
        "    def say_hi(self): \n",
        "        print('Hello, my name is', self.name) \n",
        "  \n",
        "p = Person('Shwetanshu') \n",
        "p.say_hi() "
      ],
      "execution_count": 3,
      "outputs": [
        {
          "output_type": "stream",
          "text": [
            "Hello, my name is Shwetanshu\n"
          ],
          "name": "stdout"
        }
      ]
    },
    {
      "cell_type": "code",
      "metadata": {
        "id": "WTAOsaXf31_N",
        "colab_type": "code",
        "outputId": "6c26a667-1601-4a48-e5ab-1293dae21f17",
        "colab": {
          "base_uri": "https://localhost:8080/",
          "height": 34
        }
      },
      "source": [
        "class Employee:\n",
        "    def __init__(self, name):\n",
        "        self.name = name\n",
        "\n",
        "    def say(self):\n",
        "        print(self.name)\n",
        "\n",
        "p = Employee(\"Nayeemnm\")\n",
        "p.say()"
      ],
      "execution_count": 4,
      "outputs": [
        {
          "output_type": "stream",
          "text": [
            "Nayeemnm\n"
          ],
          "name": "stdout"
        }
      ]
    },
    {
      "cell_type": "code",
      "metadata": {
        "id": "30TcCwSrPBXY",
        "colab_type": "code",
        "outputId": "15f59ab5-aa51-427c-b9f0-cdde721d726d",
        "colab": {
          "base_uri": "https://localhost:8080/",
          "height": 84
        }
      },
      "source": [
        "class Employee:\n",
        "    def __init__(self,name,id):\n",
        "        self.name = name\n",
        "        self.id = id\n",
        "nayem = Employee('nayeem',\"00ML01\")\n",
        "print(nayem.name)\n",
        "print(nayem.id)\n",
        "\n",
        "class Developer(Employee):\n",
        "    def __init__(self,name,id):\n",
        "        super(Developer).__init__()\n",
        "        self.dname=name\n",
        "        self.did = id\n",
        "\n",
        "mldev1 = Developer(\"Sam\",\"00dev02\")\n",
        "print(\"Name is : \",mldev1.dname)\n",
        "print(\"ID is : \",mldev1.did)"
      ],
      "execution_count": 5,
      "outputs": [
        {
          "output_type": "stream",
          "text": [
            "nayeem\n",
            "00ML01\n",
            "Name is :  Sam\n",
            "ID is :  00dev02\n"
          ],
          "name": "stdout"
        }
      ]
    },
    {
      "cell_type": "code",
      "metadata": {
        "id": "LV4PQUb0O6JK",
        "colab_type": "code",
        "colab": {
          "base_uri": "https://localhost:8080/",
          "height": 34
        },
        "outputId": "6a009954-2431-4443-f1fa-e13b48e6eeda"
      },
      "source": [
        "#python tutorial using geeksforgeek\n",
        "\n",
        "print(\"HEllo world\")"
      ],
      "execution_count": 7,
      "outputs": [
        {
          "output_type": "stream",
          "text": [
            "HEllo world\n"
          ],
          "name": "stdout"
        }
      ]
    },
    {
      "cell_type": "code",
      "metadata": {
        "id": "T14gITZnWsek",
        "colab_type": "code",
        "colab": {
          "base_uri": "https://localhost:8080/",
          "height": 84
        },
        "outputId": "43a76534-13ba-429e-de1d-4c2b38236738"
      },
      "source": [
        "n = 44\n",
        "nn = 4.55\n",
        "s = 'nayem'\n",
        "c ='c'\n",
        "print(n)\n",
        "print(nn)\n",
        "print(s)\n",
        "print(c)"
      ],
      "execution_count": 8,
      "outputs": [
        {
          "output_type": "stream",
          "text": [
            "44\n",
            "4.55\n",
            "nayem\n",
            "c\n"
          ],
          "name": "stdout"
        }
      ]
    },
    {
      "cell_type": "code",
      "metadata": {
        "id": "0rytos9KXF2y",
        "colab_type": "code",
        "colab": {
          "base_uri": "https://localhost:8080/",
          "height": 34
        },
        "outputId": "7bc853b7-4f00-46f3-8575-aac5b50284cc"
      },
      "source": [
        "l =[]\n",
        "\n",
        "l.append(44)\n",
        "l.append(5.66)\n",
        "l.append('name')\n",
        "l.append('c')\n",
        "print(l)"
      ],
      "execution_count": 9,
      "outputs": [
        {
          "output_type": "stream",
          "text": [
            "[44, 5.66, 'name', 'c']\n"
          ],
          "name": "stdout"
        }
      ]
    },
    {
      "cell_type": "code",
      "metadata": {
        "id": "xva7GrwIXaL6",
        "colab_type": "code",
        "colab": {
          "base_uri": "https://localhost:8080/",
          "height": 50
        },
        "outputId": "f6f0da08-f306-4d26-8f0b-489202bc6857"
      },
      "source": [
        "name = str(input(\"Enter your name : \"))\n",
        "print(\"Welcome back : \",name)"
      ],
      "execution_count": 10,
      "outputs": [
        {
          "output_type": "stream",
          "text": [
            "Enter your name : nayeem\n",
            "Welcome back :  nayeem\n"
          ],
          "name": "stdout"
        }
      ]
    },
    {
      "cell_type": "code",
      "metadata": {
        "id": "ogLVUaqoXhq5",
        "colab_type": "code",
        "colab": {
          "base_uri": "https://localhost:8080/",
          "height": 118
        },
        "outputId": "b48b1d2a-065e-4d13-e020-87767db5fdd7"
      },
      "source": [
        "n = int(input(\"Enter first number : \"))\n",
        "nn = int(input(\"Enter second number : \"))\n",
        "def calculator(n,nn):\n",
        "    print(\"Sum of number 1 and number 2 is : \",n+nn)\n",
        "    print(\"Subtract of number 1 and number 2 is : \",n-nn)\n",
        "    print(\"Multiplication of number 1 and number 2 is : \",n*nn)\n",
        "    print(\"Division of number 1 and number 2 is : \",n/nn)\n",
        "\n",
        "calculator(n,nn)\n"
      ],
      "execution_count": 11,
      "outputs": [
        {
          "output_type": "stream",
          "text": [
            "Enter first number : 55\n",
            "Enter second number : 5\n",
            "Sum of number 1 and number 2 is :  60\n",
            "Subtract of number 1 and number 2 is :  50\n",
            "Multiplication of number 1 and number 2 is :  275\n",
            "Division of number 1 and number 2 is :  11.0\n"
          ],
          "name": "stdout"
        }
      ]
    },
    {
      "cell_type": "code",
      "metadata": {
        "id": "4B3wWPVUYBTv",
        "colab_type": "code",
        "colab": {
          "base_uri": "https://localhost:8080/",
          "height": 50
        },
        "outputId": "4f8685d1-3450-4308-ed1f-3583349d1230"
      },
      "source": [
        "num = float(input(\"Enter an integer number : \"))\n",
        "print(\"{:.5f}\".format(num))"
      ],
      "execution_count": 12,
      "outputs": [
        {
          "output_type": "stream",
          "text": [
            "Enter an integer number : 555\n",
            "555.00000\n"
          ],
          "name": "stdout"
        }
      ]
    },
    {
      "cell_type": "code",
      "metadata": {
        "id": "7Toe1saNYSkw",
        "colab_type": "code",
        "colab": {
          "base_uri": "https://localhost:8080/",
          "height": 50
        },
        "outputId": "47d04bb9-a30d-4bcc-aad7-b58f56de1768"
      },
      "source": [
        "n = int(input(\"Enter number : \"))\n",
        "\n",
        "if n>100:\n",
        "    print(\"Given number is greater than 100\")\n",
        "elif n<100 and n>=0:\n",
        "    print(\"Given number is less than 100\")\n",
        "elif n<0 :\n",
        "    print(\"Given number is less than 0\")"
      ],
      "execution_count": 14,
      "outputs": [
        {
          "output_type": "stream",
          "text": [
            "Enter number : 22\n",
            "Given number is less than 100\n"
          ],
          "name": "stdout"
        }
      ]
    },
    {
      "cell_type": "code",
      "metadata": {
        "id": "NMTpEpYmY8Pi",
        "colab_type": "code",
        "colab": {
          "base_uri": "https://localhost:8080/",
          "height": 34
        },
        "outputId": "93b2fc8f-2ea1-406c-c4b4-0e3fcf267386"
      },
      "source": [
        "def function(n):\n",
        "    return n**32\n",
        "\n",
        "number = float(function(10))\n",
        "print(number)"
      ],
      "execution_count": 15,
      "outputs": [
        {
          "output_type": "stream",
          "text": [
            "1e+32\n"
          ],
          "name": "stdout"
        }
      ]
    },
    {
      "cell_type": "code",
      "metadata": {
        "id": "wC7EHDZnZMMj",
        "colab_type": "code",
        "colab": {
          "base_uri": "https://localhost:8080/",
          "height": 67
        },
        "outputId": "2c743adb-e823-4d87-8b40-351f87c11b2e"
      },
      "source": [
        "def second():\n",
        "    return (\"This is second function\")\n",
        "\n",
        "def Main():\n",
        "    print(\"Started\")\n",
        "    s = second()\n",
        "    print(s)\n",
        "    print(\"End\")\n",
        "\n",
        "if __name__ == \"__main__\":\n",
        "    Main()"
      ],
      "execution_count": 16,
      "outputs": [
        {
          "output_type": "stream",
          "text": [
            "Started\n",
            "This is second function\n",
            "End\n"
          ],
          "name": "stdout"
        }
      ]
    },
    {
      "cell_type": "code",
      "metadata": {
        "id": "PsH99IE6Z5rZ",
        "colab_type": "code",
        "colab": {
          "base_uri": "https://localhost:8080/",
          "height": 84
        },
        "outputId": "19ba46b9-b729-4267-aaf6-e1b4d383789e"
      },
      "source": [
        "def second():\n",
        "    print (\"This is second function\")\n",
        "\n",
        "def Main():\n",
        "    print(\"Started\")\n",
        "    s = second()\n",
        "    print(s)\n",
        "    print(\"End\")\n",
        "\n",
        "if __name__ == \"__main__\":\n",
        "    Main()   #check the answer carefully\n",
        "\n"
      ],
      "execution_count": 17,
      "outputs": [
        {
          "output_type": "stream",
          "text": [
            "Started\n",
            "This is second function\n",
            "None\n",
            "End\n"
          ],
          "name": "stdout"
        }
      ]
    },
    {
      "cell_type": "code",
      "metadata": {
        "id": "uPcfqfkcaOkK",
        "colab_type": "code",
        "colab": {
          "base_uri": "https://localhost:8080/",
          "height": 34
        },
        "outputId": "b65d9c64-e609-4feb-e3ab-0dc9c63e9a6a"
      },
      "source": [
        "for i in range(10):\n",
        "    print(i,end=\" \")"
      ],
      "execution_count": 18,
      "outputs": [
        {
          "output_type": "stream",
          "text": [
            "0 1 2 3 4 5 6 7 8 9 "
          ],
          "name": "stdout"
        }
      ]
    },
    {
      "cell_type": "code",
      "metadata": {
        "id": "LAGdgv72aZ-b",
        "colab_type": "code",
        "colab": {
          "base_uri": "https://localhost:8080/",
          "height": 50
        },
        "outputId": "7fa7ac88-7953-427e-8f3b-62087f62177b"
      },
      "source": [
        "import math\n",
        "\n",
        "def Main():\n",
        "    num = float(input(\"Enter the number : \"))\n",
        "    r = math.fabs(num)\n",
        "    print(r)\n",
        "\n",
        "Main()"
      ],
      "execution_count": 19,
      "outputs": [
        {
          "output_type": "stream",
          "text": [
            "Enter the number : 56\n",
            "56.0\n"
          ],
          "name": "stdout"
        }
      ]
    },
    {
      "cell_type": "code",
      "metadata": {
        "id": "1-DsJKjlaq3i",
        "colab_type": "code",
        "colab": {
          "base_uri": "https://localhost:8080/",
          "height": 1000
        },
        "outputId": "5e1822b3-4c7f-472f-b59a-5e3942477b95"
      },
      "source": [
        "import math\n",
        "help('math')"
      ],
      "execution_count": 20,
      "outputs": [
        {
          "output_type": "stream",
          "text": [
            "Help on built-in module math:\n",
            "\n",
            "NAME\n",
            "    math\n",
            "\n",
            "DESCRIPTION\n",
            "    This module is always available.  It provides access to the\n",
            "    mathematical functions defined by the C standard.\n",
            "\n",
            "FUNCTIONS\n",
            "    acos(...)\n",
            "        acos(x)\n",
            "        \n",
            "        Return the arc cosine (measured in radians) of x.\n",
            "    \n",
            "    acosh(...)\n",
            "        acosh(x)\n",
            "        \n",
            "        Return the inverse hyperbolic cosine of x.\n",
            "    \n",
            "    asin(...)\n",
            "        asin(x)\n",
            "        \n",
            "        Return the arc sine (measured in radians) of x.\n",
            "    \n",
            "    asinh(...)\n",
            "        asinh(x)\n",
            "        \n",
            "        Return the inverse hyperbolic sine of x.\n",
            "    \n",
            "    atan(...)\n",
            "        atan(x)\n",
            "        \n",
            "        Return the arc tangent (measured in radians) of x.\n",
            "    \n",
            "    atan2(...)\n",
            "        atan2(y, x)\n",
            "        \n",
            "        Return the arc tangent (measured in radians) of y/x.\n",
            "        Unlike atan(y/x), the signs of both x and y are considered.\n",
            "    \n",
            "    atanh(...)\n",
            "        atanh(x)\n",
            "        \n",
            "        Return the inverse hyperbolic tangent of x.\n",
            "    \n",
            "    ceil(...)\n",
            "        ceil(x)\n",
            "        \n",
            "        Return the ceiling of x as an Integral.\n",
            "        This is the smallest integer >= x.\n",
            "    \n",
            "    copysign(...)\n",
            "        copysign(x, y)\n",
            "        \n",
            "        Return a float with the magnitude (absolute value) of x but the sign \n",
            "        of y. On platforms that support signed zeros, copysign(1.0, -0.0) \n",
            "        returns -1.0.\n",
            "    \n",
            "    cos(...)\n",
            "        cos(x)\n",
            "        \n",
            "        Return the cosine of x (measured in radians).\n",
            "    \n",
            "    cosh(...)\n",
            "        cosh(x)\n",
            "        \n",
            "        Return the hyperbolic cosine of x.\n",
            "    \n",
            "    degrees(...)\n",
            "        degrees(x)\n",
            "        \n",
            "        Convert angle x from radians to degrees.\n",
            "    \n",
            "    erf(...)\n",
            "        erf(x)\n",
            "        \n",
            "        Error function at x.\n",
            "    \n",
            "    erfc(...)\n",
            "        erfc(x)\n",
            "        \n",
            "        Complementary error function at x.\n",
            "    \n",
            "    exp(...)\n",
            "        exp(x)\n",
            "        \n",
            "        Return e raised to the power of x.\n",
            "    \n",
            "    expm1(...)\n",
            "        expm1(x)\n",
            "        \n",
            "        Return exp(x)-1.\n",
            "        This function avoids the loss of precision involved in the direct evaluation of exp(x)-1 for small x.\n",
            "    \n",
            "    fabs(...)\n",
            "        fabs(x)\n",
            "        \n",
            "        Return the absolute value of the float x.\n",
            "    \n",
            "    factorial(...)\n",
            "        factorial(x) -> Integral\n",
            "        \n",
            "        Find x!. Raise a ValueError if x is negative or non-integral.\n",
            "    \n",
            "    floor(...)\n",
            "        floor(x)\n",
            "        \n",
            "        Return the floor of x as an Integral.\n",
            "        This is the largest integer <= x.\n",
            "    \n",
            "    fmod(...)\n",
            "        fmod(x, y)\n",
            "        \n",
            "        Return fmod(x, y), according to platform C.  x % y may differ.\n",
            "    \n",
            "    frexp(...)\n",
            "        frexp(x)\n",
            "        \n",
            "        Return the mantissa and exponent of x, as pair (m, e).\n",
            "        m is a float and e is an int, such that x = m * 2.**e.\n",
            "        If x is 0, m and e are both 0.  Else 0.5 <= abs(m) < 1.0.\n",
            "    \n",
            "    fsum(...)\n",
            "        fsum(iterable)\n",
            "        \n",
            "        Return an accurate floating point sum of values in the iterable.\n",
            "        Assumes IEEE-754 floating point arithmetic.\n",
            "    \n",
            "    gamma(...)\n",
            "        gamma(x)\n",
            "        \n",
            "        Gamma function at x.\n",
            "    \n",
            "    gcd(...)\n",
            "        gcd(x, y) -> int\n",
            "        greatest common divisor of x and y\n",
            "    \n",
            "    hypot(...)\n",
            "        hypot(x, y)\n",
            "        \n",
            "        Return the Euclidean distance, sqrt(x*x + y*y).\n",
            "    \n",
            "    isclose(...)\n",
            "        isclose(a, b, *, rel_tol=1e-09, abs_tol=0.0) -> bool\n",
            "        \n",
            "        Determine whether two floating point numbers are close in value.\n",
            "        \n",
            "           rel_tol\n",
            "               maximum difference for being considered \"close\", relative to the\n",
            "               magnitude of the input values\n",
            "            abs_tol\n",
            "               maximum difference for being considered \"close\", regardless of the\n",
            "               magnitude of the input values\n",
            "        \n",
            "        Return True if a is close in value to b, and False otherwise.\n",
            "        \n",
            "        For the values to be considered close, the difference between them\n",
            "        must be smaller than at least one of the tolerances.\n",
            "        \n",
            "        -inf, inf and NaN behave similarly to the IEEE 754 Standard.  That\n",
            "        is, NaN is not close to anything, even itself.  inf and -inf are\n",
            "        only close to themselves.\n",
            "    \n",
            "    isfinite(...)\n",
            "        isfinite(x) -> bool\n",
            "        \n",
            "        Return True if x is neither an infinity nor a NaN, and False otherwise.\n",
            "    \n",
            "    isinf(...)\n",
            "        isinf(x) -> bool\n",
            "        \n",
            "        Return True if x is a positive or negative infinity, and False otherwise.\n",
            "    \n",
            "    isnan(...)\n",
            "        isnan(x) -> bool\n",
            "        \n",
            "        Return True if x is a NaN (not a number), and False otherwise.\n",
            "    \n",
            "    ldexp(...)\n",
            "        ldexp(x, i)\n",
            "        \n",
            "        Return x * (2**i).\n",
            "    \n",
            "    lgamma(...)\n",
            "        lgamma(x)\n",
            "        \n",
            "        Natural logarithm of absolute value of Gamma function at x.\n",
            "    \n",
            "    log(...)\n",
            "        log(x[, base])\n",
            "        \n",
            "        Return the logarithm of x to the given base.\n",
            "        If the base not specified, returns the natural logarithm (base e) of x.\n",
            "    \n",
            "    log10(...)\n",
            "        log10(x)\n",
            "        \n",
            "        Return the base 10 logarithm of x.\n",
            "    \n",
            "    log1p(...)\n",
            "        log1p(x)\n",
            "        \n",
            "        Return the natural logarithm of 1+x (base e).\n",
            "        The result is computed in a way which is accurate for x near zero.\n",
            "    \n",
            "    log2(...)\n",
            "        log2(x)\n",
            "        \n",
            "        Return the base 2 logarithm of x.\n",
            "    \n",
            "    modf(...)\n",
            "        modf(x)\n",
            "        \n",
            "        Return the fractional and integer parts of x.  Both results carry the sign\n",
            "        of x and are floats.\n",
            "    \n",
            "    pow(...)\n",
            "        pow(x, y)\n",
            "        \n",
            "        Return x**y (x to the power of y).\n",
            "    \n",
            "    radians(...)\n",
            "        radians(x)\n",
            "        \n",
            "        Convert angle x from degrees to radians.\n",
            "    \n",
            "    sin(...)\n",
            "        sin(x)\n",
            "        \n",
            "        Return the sine of x (measured in radians).\n",
            "    \n",
            "    sinh(...)\n",
            "        sinh(x)\n",
            "        \n",
            "        Return the hyperbolic sine of x.\n",
            "    \n",
            "    sqrt(...)\n",
            "        sqrt(x)\n",
            "        \n",
            "        Return the square root of x.\n",
            "    \n",
            "    tan(...)\n",
            "        tan(x)\n",
            "        \n",
            "        Return the tangent of x (measured in radians).\n",
            "    \n",
            "    tanh(...)\n",
            "        tanh(x)\n",
            "        \n",
            "        Return the hyperbolic tangent of x.\n",
            "    \n",
            "    trunc(...)\n",
            "        trunc(x:Real) -> Integral\n",
            "        \n",
            "        Truncates x to the nearest Integral toward 0. Uses the __trunc__ magic method.\n",
            "\n",
            "DATA\n",
            "    e = 2.718281828459045\n",
            "    inf = inf\n",
            "    nan = nan\n",
            "    pi = 3.141592653589793\n",
            "    tau = 6.283185307179586\n",
            "\n",
            "FILE\n",
            "    (built-in)\n",
            "\n",
            "\n"
          ],
          "name": "stdout"
        }
      ]
    },
    {
      "cell_type": "code",
      "metadata": {
        "id": "OAzIesf4a3wR",
        "colab_type": "code",
        "colab": {
          "base_uri": "https://localhost:8080/",
          "height": 67
        },
        "outputId": "3a0e4295-854a-4ab6-fce1-41ad150fd265"
      },
      "source": [
        "var = 44\n",
        "\n",
        "def func():\n",
        "    var1 = 498\n",
        "    print(\"Inside func\")\n",
        "    def funcc():\n",
        "        print('inside funcc')\n",
        "    print(var1)\n",
        "    print(var)\n",
        "func()\n"
      ],
      "execution_count": 21,
      "outputs": [
        {
          "output_type": "stream",
          "text": [
            "Inside func\n",
            "498\n",
            "44\n"
          ],
          "name": "stdout"
        }
      ]
    },
    {
      "cell_type": "code",
      "metadata": {
        "id": "XkQI3_jXdocn",
        "colab_type": "code",
        "colab": {
          "base_uri": "https://localhost:8080/",
          "height": 50
        },
        "outputId": "2a07fdb8-49af-48cb-d1d4-4af44fa3d030"
      },
      "source": [
        "count = 4\n",
        "def fc ():\n",
        "    global count\n",
        "    print(count)\n",
        "    count+=1\n",
        "    print(count)\n",
        "fc()"
      ],
      "execution_count": 23,
      "outputs": [
        {
          "output_type": "stream",
          "text": [
            "4\n",
            "5\n"
          ],
          "name": "stdout"
        }
      ]
    },
    {
      "cell_type": "code",
      "metadata": {
        "id": "a5JkzO1qeh6c",
        "colab_type": "code",
        "colab": {
          "base_uri": "https://localhost:8080/",
          "height": 50
        },
        "outputId": "2f5d883a-c8e5-4fe3-e51e-c7483d1bcffd"
      },
      "source": [
        "\n",
        "v=4674\n",
        "def func():\n",
        "    print(\"This is message\")\n",
        "    print(v)\n",
        "\n",
        "func()"
      ],
      "execution_count": 26,
      "outputs": [
        {
          "output_type": "stream",
          "text": [
            "This is message\n",
            "4674\n"
          ],
          "name": "stdout"
        }
      ]
    },
    {
      "cell_type": "code",
      "metadata": {
        "id": "ptm-301yfAOk",
        "colab_type": "code",
        "colab": {
          "base_uri": "https://localhost:8080/",
          "height": 330
        },
        "outputId": "419a4a96-54c0-4351-8c1b-88de7edb921c"
      },
      "source": [
        "var =33\n",
        "def func():\n",
        "    print(\"This is message\")\n",
        "    print(var)\n",
        "    var +=1\n",
        "    print(var)\n",
        "\n",
        "func()"
      ],
      "execution_count": 53,
      "outputs": [
        {
          "output_type": "stream",
          "text": [
            "This is message\n"
          ],
          "name": "stdout"
        },
        {
          "output_type": "error",
          "ename": "UnboundLocalError",
          "evalue": "ignored",
          "traceback": [
            "\u001b[0;31m---------------------------------------------------------------------------\u001b[0m",
            "\u001b[0;31mUnboundLocalError\u001b[0m                         Traceback (most recent call last)",
            "\u001b[0;32m<ipython-input-53-6f5b0e52ce2f>\u001b[0m in \u001b[0;36m<module>\u001b[0;34m()\u001b[0m\n\u001b[1;32m      6\u001b[0m     \u001b[0mprint\u001b[0m\u001b[0;34m(\u001b[0m\u001b[0mvar\u001b[0m\u001b[0;34m)\u001b[0m\u001b[0;34m\u001b[0m\u001b[0;34m\u001b[0m\u001b[0m\n\u001b[1;32m      7\u001b[0m \u001b[0;34m\u001b[0m\u001b[0m\n\u001b[0;32m----> 8\u001b[0;31m \u001b[0mfunc\u001b[0m\u001b[0;34m(\u001b[0m\u001b[0;34m)\u001b[0m\u001b[0;34m\u001b[0m\u001b[0;34m\u001b[0m\u001b[0m\n\u001b[0m",
            "\u001b[0;32m<ipython-input-53-6f5b0e52ce2f>\u001b[0m in \u001b[0;36mfunc\u001b[0;34m()\u001b[0m\n\u001b[1;32m      2\u001b[0m \u001b[0;32mdef\u001b[0m \u001b[0mfunc\u001b[0m\u001b[0;34m(\u001b[0m\u001b[0;34m)\u001b[0m\u001b[0;34m:\u001b[0m\u001b[0;34m\u001b[0m\u001b[0;34m\u001b[0m\u001b[0m\n\u001b[1;32m      3\u001b[0m     \u001b[0mprint\u001b[0m\u001b[0;34m(\u001b[0m\u001b[0;34m\"This is message\"\u001b[0m\u001b[0;34m)\u001b[0m\u001b[0;34m\u001b[0m\u001b[0;34m\u001b[0m\u001b[0m\n\u001b[0;32m----> 4\u001b[0;31m     \u001b[0mprint\u001b[0m\u001b[0;34m(\u001b[0m\u001b[0mvar\u001b[0m\u001b[0;34m)\u001b[0m\u001b[0;34m\u001b[0m\u001b[0;34m\u001b[0m\u001b[0m\n\u001b[0m\u001b[1;32m      5\u001b[0m     \u001b[0mvar\u001b[0m \u001b[0;34m+=\u001b[0m\u001b[0;36m1\u001b[0m\u001b[0;34m\u001b[0m\u001b[0;34m\u001b[0m\u001b[0m\n\u001b[1;32m      6\u001b[0m     \u001b[0mprint\u001b[0m\u001b[0;34m(\u001b[0m\u001b[0mvar\u001b[0m\u001b[0;34m)\u001b[0m\u001b[0;34m\u001b[0m\u001b[0;34m\u001b[0m\u001b[0m\n",
            "\u001b[0;31mUnboundLocalError\u001b[0m: local variable 'var' referenced before assignment"
          ]
        }
      ]
    },
    {
      "cell_type": "code",
      "metadata": {
        "id": "6kPZvtzWfLCr",
        "colab_type": "code",
        "colab": {
          "base_uri": "https://localhost:8080/",
          "height": 202
        },
        "outputId": "76cf1b09-9d65-4768-fd6d-1e8209d19df6"
      },
      "source": [
        "v=45\n",
        "def func():\n",
        "    print(\"Inside func\")\n",
        "    def inner_func():\n",
        "        var = 44\n",
        "        print(\"Inside inner func\")\n",
        "        print(var)\n",
        "        print(v)\n",
        "    inner_func()\n",
        "func()\n",
        "\n",
        "print(\"\\n\\n\")\n",
        "var = 44\n",
        "\n",
        "def fun():\n",
        "    var1 = 498\n",
        "    print(\"Inside func\")\n",
        "    def funcc():\n",
        "        print('Inside funcc')\n",
        "    funcc()\n",
        "    print(var1)\n",
        "    print(var)\n",
        "fun()"
      ],
      "execution_count": 54,
      "outputs": [
        {
          "output_type": "stream",
          "text": [
            "Inside func\n",
            "Inside inner func\n",
            "44\n",
            "45\n",
            "\n",
            "\n",
            "\n",
            "Inside func\n",
            "Inside funcc\n",
            "498\n",
            "44\n"
          ],
          "name": "stdout"
        }
      ]
    },
    {
      "cell_type": "code",
      "metadata": {
        "id": "3PfOMFvLfnr5",
        "colab_type": "code",
        "colab": {
          "base_uri": "https://localhost:8080/",
          "height": 34
        },
        "outputId": "5f54e0cb-92ea-46d5-9234-28e13618c2b2"
      },
      "source": [
        "if \"s\" in 'strings':\n",
        "    print(\"s exist in string\")\n",
        "else :\n",
        "    print(\"s doesn't exist in string\")"
      ],
      "execution_count": 30,
      "outputs": [
        {
          "output_type": "stream",
          "text": [
            "s exist in string\n"
          ],
          "name": "stdout"
        }
      ]
    },
    {
      "cell_type": "code",
      "metadata": {
        "id": "QBbFekyvhbBl",
        "colab_type": "code",
        "colab": {
          "base_uri": "https://localhost:8080/",
          "height": 34
        },
        "outputId": "81ec65a2-df23-4339-a9e1-07756048d34d"
      },
      "source": [
        "for i in \"Geeokforgeeksandtutorials\":\n",
        "    print(i,end=\"   \")"
      ],
      "execution_count": 31,
      "outputs": [
        {
          "output_type": "stream",
          "text": [
            "G   e   e   o   k   f   o   r   g   e   e   k   s   a   n   d   t   u   t   o   r   i   a   l   s   "
          ],
          "name": "stdout"
        }
      ]
    },
    {
      "cell_type": "code",
      "metadata": {
        "id": "nMtZi-UHhplQ",
        "colab_type": "code",
        "colab": {
          "base_uri": "https://localhost:8080/",
          "height": 34
        },
        "outputId": "7fc6fcbc-84b1-4fbf-82da-6a48bb2fd479"
      },
      "source": [
        "print(\" \" is \" \") #string is immutable so takes the same memory location"
      ],
      "execution_count": 32,
      "outputs": [
        {
          "output_type": "stream",
          "text": [
            "True\n"
          ],
          "name": "stdout"
        }
      ]
    },
    {
      "cell_type": "code",
      "metadata": {
        "id": "CVOGbjoWh3xi",
        "colab_type": "code",
        "colab": {
          "base_uri": "https://localhost:8080/",
          "height": 34
        },
        "outputId": "624e5e39-e29e-4bc7-abd6-e1243360bb3d"
      },
      "source": [
        "print({} is {}) #dict is mutable so each time it takes differetnt memory location\n"
      ],
      "execution_count": 33,
      "outputs": [
        {
          "output_type": "stream",
          "text": [
            "False\n"
          ],
          "name": "stdout"
        }
      ]
    },
    {
      "cell_type": "code",
      "metadata": {
        "id": "LOq8AB7Bh5di",
        "colab_type": "code",
        "colab": {
          "base_uri": "https://localhost:8080/",
          "height": 84
        },
        "outputId": "3216177e-39d4-4389-b5e3-efe0cb4f51b4"
      },
      "source": [
        "v =33\n",
        "\n",
        "def read():\n",
        "    print(v)\n",
        "\n",
        "def mod():\n",
        "    v = 5\n",
        "    print(v)\n",
        "def modglobal():\n",
        "    global v\n",
        "    v=4\n",
        "    print(v)\n",
        "\n",
        "read()\n",
        "modglobal()\n",
        "mod()\n",
        "read()"
      ],
      "execution_count": 34,
      "outputs": [
        {
          "output_type": "stream",
          "text": [
            "33\n",
            "4\n",
            "5\n",
            "4\n"
          ],
          "name": "stdout"
        }
      ]
    },
    {
      "cell_type": "code",
      "metadata": {
        "id": "O2xZ6kyMivRf",
        "colab_type": "code",
        "colab": {
          "base_uri": "https://localhost:8080/",
          "height": 84
        },
        "outputId": "0c27146f-3707-4321-fc3a-12bf8becae94"
      },
      "source": [
        "a=22222\n",
        "def func():\n",
        "    print(a)\n",
        "    b=77\n",
        "    def nonfunc():\n",
        "        nonlocal b\n",
        "        b=44\n",
        "        print(b)\n",
        "        print(\"Gloabl a : \",a)\n",
        "    nonfunc()\n",
        "    print(\"End\")\n",
        "\n",
        "func()"
      ],
      "execution_count": 35,
      "outputs": [
        {
          "output_type": "stream",
          "text": [
            "22222\n",
            "44\n",
            "Gloabl a :  22222\n",
            "End\n"
          ],
          "name": "stdout"
        }
      ]
    },
    {
      "cell_type": "code",
      "metadata": {
        "id": "r_d8QBWhkND1",
        "colab_type": "code",
        "colab": {
          "base_uri": "https://localhost:8080/",
          "height": 84
        },
        "outputId": "bd96a2ba-3e57-4352-87cc-2f263f0a825e"
      },
      "source": [
        "print(True+False)\n",
        "print(True-False)\n",
        "print(True*False)\n",
        "print(True**False)"
      ],
      "execution_count": 36,
      "outputs": [
        {
          "output_type": "stream",
          "text": [
            "1\n",
            "1\n",
            "0\n",
            "1\n"
          ],
          "name": "stdout"
        }
      ]
    },
    {
      "cell_type": "code",
      "metadata": {
        "id": "CeRB6t95l0re",
        "colab_type": "code",
        "colab": {
          "base_uri": "https://localhost:8080/",
          "height": 34
        },
        "outputId": "8b47d6be-63c6-4f24-f4b1-09adcb8c6283"
      },
      "source": [
        "print(True+False+False)"
      ],
      "execution_count": 37,
      "outputs": [
        {
          "output_type": "stream",
          "text": [
            "1\n"
          ],
          "name": "stdout"
        }
      ]
    },
    {
      "cell_type": "code",
      "metadata": {
        "id": "8HHGdSTSl44U",
        "colab_type": "code",
        "colab": {
          "base_uri": "https://localhost:8080/",
          "height": 34
        },
        "outputId": "9e012277-931a-462e-8ccf-4feccfdbe16f"
      },
      "source": [
        "x = 20\n",
        "y = 44\n",
        "\n",
        "x is y\n"
      ],
      "execution_count": 38,
      "outputs": [
        {
          "output_type": "execute_result",
          "data": {
            "text/plain": [
              "False"
            ]
          },
          "metadata": {
            "tags": []
          },
          "execution_count": 38
        }
      ]
    },
    {
      "cell_type": "code",
      "metadata": {
        "id": "eIoXLU2SmUZk",
        "colab_type": "code",
        "colab": {
          "base_uri": "https://localhost:8080/",
          "height": 34
        },
        "outputId": "fcc18bf9-562d-42ed-86ee-9031d3f1fffa"
      },
      "source": [
        "True and False"
      ],
      "execution_count": 39,
      "outputs": [
        {
          "output_type": "execute_result",
          "data": {
            "text/plain": [
              "False"
            ]
          },
          "metadata": {
            "tags": []
          },
          "execution_count": 39
        }
      ]
    },
    {
      "cell_type": "code",
      "metadata": {
        "id": "CJH3mLQCmgP6",
        "colab_type": "code",
        "colab": {
          "base_uri": "https://localhost:8080/",
          "height": 154
        },
        "outputId": "d0c22116-eeba-4b08-9008-1997e4e6b95d"
      },
      "source": [
        "import requests\n",
        "base_url ='https://www.google.com/search?q=bird&sxsrf=ALeKk01CtpHLqtaoWwG_fVq0qFLPwl2VXg:1587302572727&source=lnms&tbm=isch&sa=X&ved=2ahUKEwi7i_7vyvToAhVGWX0KHSRXBsYQ_AUoAXoECBkQAw&biw=615&bih=585'\n",
        "res = requests.get(base_url)\n",
        "rr = res.text \n",
        "print(rr)\n",
        "print(res.status_code)\n"
      ],
      "execution_count": 40,
      "outputs": [
        {
          "output_type": "stream",
          "text": [
            "<html><head><meta http-equiv=\"Content-Type\" content=\"text/html; charset=ISO-8859-1\"><title>bird - Google Search</title><style>#gbar,#guser{font-size:13px;padding-top:1px !important;}#gbar{height:22px}#guser{padding-bottom:7px !important;text-align:right}.gbh,.gbd{border-top:1px solid #c9d7f1;font-size:1px}.gbh{height:0;position:absolute;top:24px;width:100%}@media all{.gb1{height:22px;margin-right:.5em;vertical-align:top}#gbar{float:left}}a.gb1,a.gb4{text-decoration:underline !important}a.gb1,a.gb4{color:#00c !important}.gbi .gb4{color:#dd8e27 !important}.gbf .gb4{color:#900 !important}\n",
            "body,td,div,.p,a{font-family:arial,sans-serif}#gbar{float:left;height:22px;padding-left:2pxfont-size:13px}.j{width:34em}</style><script type=\"text/javascript\"></script></head>\n",
            "      <body bgcolor=\"#ffffff\" topmargin=\"3\" marginheight=\"3\"\n",
            "    \n",
            "      >\n",
            "    <div id=gbar><nobr><a class=gb1 href=\"https://www.google.com/search?tab=iw\">Search</a> <b class=gb1>Images</b> <a class=gb1 href=\"https://maps.google.com/maps?hl=en&tab=il\">Maps</a> <a class=gb1 href=\"https://play.google.com/?hl=en&tab=i8\">Play</a> <a class=gb1 href=\"https://www.youtube.com/results?gl=US&tab=i1\">YouTube</a> <a class=gb1 href=\"https://news.google.com/nwshp?hl=en&tab=in\">News</a> <a class=gb1 href=\"https://mail.google.com/mail/?tab=im\">Gmail</a> <a class=gb1 href=\"https://drive.google.com/?tab=io\">Drive</a> <a class=gb1 style=\"text-decoration:none\" href=\"https://www.google.com/intl/en/about/products?tab=ih\"><u>More</u> &raquo;</a></nobr></div><div id=guser width=100%><nobr><span id=gbn class=gbi></span><span id=gbf class=gbf></span><span id=gbe></span><a href=\"http://www.google.com/history/optout?hl=en\" class=gb4>Web History</a> | <a  href=\"/preferences?hl=en\" class=gb4>Settings</a> | <a target=_top id=gb_70 href=\"https://accounts.google.com/ServiceLogin?hl=en&passive=true&continue=https://www.google.com/search%3Fq%3Dbird%26sxsrf%3DALeKk01CtpHLqtaoWwG_fVq0qFLPwl2VXg:1587302572727%26source%3Dlnms%26tbm%3Disch%26sa%3DX%26ved%3D2ahUKEwi7i_7vyvToAhVGWX0KHSRXBsYQ_AUoAXoECBkQAw%26biw%3D615%26bih%3D585\" class=gb4>Sign in</a></nobr></div><div class=gbh style=left:0></div><div class=gbh style=right:0></div><font size=\"-2\"><br clear=\"all\"></font><table border=\"0\" cellpadding=\"3\" cellspacing=\"0\"><tr><td valign=\"top\"><a href=\"/webhp?hl=\"><img src=\"/images/branding/searchlogo/1x/googlelogo_desk_heirloom_color_150x55dp.gif\" height=\"55\" width=\"150\" border=\"0\"></a></td><td valign=\"bottom\"><nobr><form name=\"gs\" method=\"GET\" action=\"/search\"><input type=\"text\" name=\"q\" maxlength=\"2048\" title=\"Search\" value=\"bird\" size=\"41\"><input type=\"hidden\" name=\"sxsrf\" value=\"ALeKk01CtpHLqtaoWwG_fVq0qFLPwl2VXg:1587302572727\"><input type=\"hidden\" name=\"source\" value=\"lnms\"><input type=\"hidden\" name=\"tbm\" value=\"isch\"><input type=\"hidden\" name=\"sa\" value=\"X\"><input type=\"hidden\" name=\"ved\" value=\"2ahUKEwi7i_7vyvToAhVGWX0KHSRXBsYQ_AUoAXoECBkQAw\"><input type=\"hidden\" name=\"biw\" value=\"615\"><input type=\"hidden\" name=\"bih\" value=\"585\"><font size=\"-1\">&nbsp;</font><input type=\"Submit\" name=\"btnG\" value=\"Search\"><font size=\"-1\">&nbsp;</font></form></nobr></td><td width=\"100%\" valign=\"middle\"><nobr><font size=\"-2\"><a href=\"/advanced_search?q=bird&amp;hl=\">Advanced Search</a><br><a href=\"/preferences?q=bird&amp;hl=\">Preferences</a></font></nobr></td></tr></table><table width=\"100%\" border=\"0\" cellpadding=\"0\" cellspacing=\"0\"><tr><td bgcolor=\"#3366CC\" height=\"1\"><img height=\"1\" width=\"1\" alt=\"\"></td></tr></table><table width=\"100%\" border=\"0\" cellpadding=\"0\" cellspacing=\"0\" bgcolor=\"#D5DDF3\"><tr><td><img height=\"2\" width=\"1\" alt=\"\"></td></tr><tr><td><table width=\"100%\" border=\"0\" cellpadding=\"0\" cellspacing=\"4\"><tr><td nowrap><font size=\"-1\"><strong>Web</strong> <dfn>&#8250;</dfn> <strong>Images</strong></font></td><td nowrap align=\"right\"><font size=\"-1\">About 1,470,000,000 results (<b>0.37</b> seconds)</font></td></tr></table></td></tr><tr><td><img height=\"1\" width=\"1\" alt=\"\"></td></tr></table><font size=\"-1\"></font><table width=\"100%\" style=\"margin-top:10px\"><tr><td style=\"line-height:17px;padding-bottom:16px;width:25%;                    word-wrap:break-word\"><a href=\"/url?q=https://www.scientificamerican.com/article/silent-skies-billions-of-north-american-birds-have-vanished/&amp;sa=U&amp;ved=0ahUKEwjl6ubI6PToAhUIH3AKHVk-DnkQqoUBCAgwAA&amp;usg=AOvVaw3DuMppIhGGO1oN_GUwRMVe\"><img height=\"113\" width=\"150\" style=\"border:1px solid #ccc;padding:1px\" src=\"http://t1.gstatic.com/images?q=tbn:ANd9GcTPsLpkZAi6V2O9xC47-1j5BWX6M4pQLVOrdpMNHqHHskdRxfA7c89ozRzc\"></a><font size=\"-1\"><br>Silent Skies: Billions of North American <b>Birds</b> Have Vanished ...<br>2000 &times; 1500 - 4294k&nbsp;-&nbsp;png<br><font color=\"green\">scientificamerican.com</font></font></td><td style=\"line-height:17px;padding-bottom:16px;width:25%;                    word-wrap:break-word\"><a href=\"/url?q=https://www.audubon.org/news/when-its-okay-or-not-feed-birds&amp;sa=U&amp;ved=0ahUKEwjl6ubI6PToAhUIH3AKHVk-DnkQqoUBCAowAQ&amp;usg=AOvVaw1CiMRsjHztRFXz4OfESyeD\"><img height=\"100\" width=\"150\" style=\"border:1px solid #ccc;padding:1px\" src=\"http://t2.gstatic.com/images?q=tbn:ANd9GcQYTqr2S1ZHWPFe7f42w23Fsv1DbKXtNAdGiwFrYvEjU7xJ_Pufsa1xpVg\"></a><font size=\"-1\"><br>When It&#39;s Okay (or Not) to Feed <b>Birds</b> | Audubon<br>2400 &times; 1600 - 453k&nbsp;-&nbsp;jpg<br><font color=\"green\">audubon.org</font></font></td><td style=\"line-height:17px;padding-bottom:16px;width:25%;                    word-wrap:break-word\"><a href=\"/url?q=https://www.allaboutbirds.org/guide/Indigo_Bunting/id&amp;sa=U&amp;ved=0ahUKEwjl6ubI6PToAhUIH3AKHVk-DnkQqoUBCAwwAg&amp;usg=AOvVaw2S80NgyqWc_kwwtwHBcgp2\"><img height=\"97\" width=\"129\" style=\"border:1px solid #ccc;padding:1px\" src=\"http://t3.gstatic.com/images?q=tbn:ANd9GcQv4oHA2gKhnexC7q-g4TkHRYnNAIA04w9uR0Y-TSNbOAyhUsGRUPaVZrU\"></a><font size=\"-1\"><br>Indigo Bunting Identification, All About <b>Birds</b>, Cornell Lab of ...<br>480 &times; 360 - 19k&nbsp;-&nbsp;jpg<br><font color=\"green\">allaboutbirds.org</font></font></td><td style=\"line-height:17px;padding-bottom:16px;width:25%;                    word-wrap:break-word\"><a href=\"/url?q=https://en.wikipedia.org/wiki/Songbird&amp;sa=U&amp;ved=0ahUKEwjl6ubI6PToAhUIH3AKHVk-DnkQqoUBCA4wAw&amp;usg=AOvVaw2yHKK0BcQJjceAFiVpEU-t\"><img height=\"100\" width=\"150\" style=\"border:1px solid #ccc;padding:1px\" src=\"http://t0.gstatic.com/images?q=tbn:ANd9GcQJnxJFXHNEAArpVojcSJYFAJXozlUP82lMZEVA7b4DrhrjrUsoeTrdNwA\"></a><font size=\"-1\"><br>Songbird - Wikipedia<br>4386 &times; 2924 - 8316k&nbsp;-&nbsp;jpg<br><font color=\"green\">en.wikipedia.org</font></font></td><tr><td style=\"line-height:17px;padding-bottom:16px;width:25%;                    word-wrap:break-word\"><a href=\"/url?q=https://www.thespruce.com/why-birds-sing-386221&amp;sa=U&amp;ved=0ahUKEwjl6ubI6PToAhUIH3AKHVk-DnkQqoUBCBAwBA&amp;usg=AOvVaw1yEfXhAm6cukPSt6B78dVF\"><img height=\"100\" width=\"150\" style=\"border:1px solid #ccc;padding:1px\" src=\"http://t1.gstatic.com/images?q=tbn:ANd9GcTid2zqeiOwqetrrTQFoUjc2fwadwi3SiymgYnfYuP8oKE-cQDLZzl0ib4\"></a><font size=\"-1\"><br>Understanding Why <b>Birds</b> Sing<br>1500 &times; 1000 - 179k&nbsp;-&nbsp;jpg<br><font color=\"green\">thespruce.com</font></font></td><td style=\"line-height:17px;padding-bottom:16px;width:25%;                    word-wrap:break-word\"><a href=\"/url?q=https://www.nytimes.com/2020/04/03/science/south-philippine-kingfisher-photo.html&amp;sa=U&amp;ved=0ahUKEwjl6ubI6PToAhUIH3AKHVk-DnkQqoUBCBIwBQ&amp;usg=AOvVaw0As6_K3B0r4gQcCSXmSBOP\"><img height=\"150\" width=\"150\" style=\"border:1px solid #ccc;padding:1px\" src=\"http://t2.gstatic.com/images?q=tbn:ANd9GcRNzubxD5aKGkV5qE6ycrI_MnmAzOi8hbeUvvUpQZxEmkKhs4rtGq3ipGxT6w\"></a><font size=\"-1\"><br>How an Eye Surgeon Got a Picture of This Rare Pastel <b>Bird</b> - The ...<br>1724 &times; 1724 - 491k&nbsp;-&nbsp;jpg<br><font color=\"green\">nytimes.com</font></font></td><td style=\"line-height:17px;padding-bottom:16px;width:25%;                    word-wrap:break-word\"><a href=\"/url?q=https://birdsoftheworld.org/bow/news/welcome-to-bow&amp;sa=U&amp;ved=0ahUKEwjl6ubI6PToAhUIH3AKHVk-DnkQqoUBCBQwBg&amp;usg=AOvVaw3AssW8DaGmsiI1a8Ki9I88\"><img height=\"85\" width=\"137\" style=\"border:1px solid #ccc;padding:1px\" src=\"http://t3.gstatic.com/images?q=tbn:ANd9GcT_rhW0jPDvEM5j4mtb2jONdCrl62eKwYzmUP21jihavzxHa-8Q4bL4-S_x\"></a><font size=\"-1\"><br>Welcome To <b>Birds</b> of the World - &quot;<b>Bird</b> Diversity at Your Fingertips ...<br>640 &times; 396 - 40k<br><font color=\"green\">birdsoftheworld.org</font></font></td><td style=\"line-height:17px;padding-bottom:16px;width:25%;                    word-wrap:break-word\"><a href=\"/url?q=https://www.the-scientist.com/news-opinion/climate-change-linked-to-smaller-birds--study-66820&amp;sa=U&amp;ved=0ahUKEwjl6ubI6PToAhUIH3AKHVk-DnkQqoUBCBYwBw&amp;usg=AOvVaw0G5BxsnwNDiecnZ1nlpKpw\"><img height=\"105\" width=\"150\" style=\"border:1px solid #ccc;padding:1px\" src=\"http://t0.gstatic.com/images?q=tbn:ANd9GcTBRINT91DUOHX7neUAHNasXtwobko_akfiUGrkcP7ekcKME8zG7OaFHHk\"></a><font size=\"-1\"><br>Climate Change Linked to Shrinking <b>Bird</b> Sizes: Study | The ...<br>1200 &times; 839 - 1115k&nbsp;-&nbsp;png<br><font color=\"green\">the-scientist.com</font></font></td><tr><td style=\"line-height:17px;padding-bottom:16px;width:25%;                    word-wrap:break-word\"><a href=\"/url?q=https://www.sciencemag.org/news/2018/07/watch-out-birders-artificial-intelligence-has-learned-spot-birds-their-songs&amp;sa=U&amp;ved=0ahUKEwjl6ubI6PToAhUIH3AKHVk-DnkQqoUBCBgwCA&amp;usg=AOvVaw0QLzmQwnSA9DXLVZglmrJL\"><img height=\"84\" width=\"150\" style=\"border:1px solid #ccc;padding:1px\" src=\"http://t1.gstatic.com/images?q=tbn:ANd9GcRqqmHOhia3NRNVtvy1qvcwfmoG6QLLEyCoJ9lDgjWK43H9nZQs1Gaa3CI\"></a><font size=\"-1\"><br>Watch out, birders: Artificial intelligence has learned to spot ...<br>1280 &times; 720 - 97k&nbsp;-&nbsp;jpg<br><font color=\"green\">sciencemag.org</font></font></td><td style=\"line-height:17px;padding-bottom:16px;width:25%;                    word-wrap:break-word\"><a href=\"/url?q=https://www.smithsonianmag.com/science-nature/north-america-has-lost-nearly-3-billion-birds-180973178/&amp;sa=U&amp;ved=0ahUKEwjl6ubI6PToAhUIH3AKHVk-DnkQqoUBCBowCQ&amp;usg=AOvVaw35KvGaGpspdYDWEtW-iTI5\"><img height=\"100\" width=\"150\" style=\"border:1px solid #ccc;padding:1px\" src=\"http://t2.gstatic.com/images?q=tbn:ANd9GcT9Dnp7s_vexdVFbPxe2YIRx0YwyIRUiCY91rjO-pJluPGcmxwVFpXW3Y-k\"></a><font size=\"-1\"><br>North America Has Lost Nearly 3 Billion <b>Birds</b> Since 1970 | Science ...<br>1600 &times; 1067 - 210k&nbsp;-&nbsp;jpg<br><font color=\"green\">smithsonianmag.com</font></font></td><td style=\"line-height:17px;padding-bottom:16px;width:25%;                    word-wrap:break-word\"><a href=\"/url?q=https://www.audubon.org/field-guide/bird/northern-cardinal&amp;sa=U&amp;ved=0ahUKEwjl6ubI6PToAhUIH3AKHVk-DnkQqoUBCBwwCg&amp;usg=AOvVaw3nm7rujCzPPjObG7t81wrG\"><img height=\"99\" width=\"150\" style=\"border:1px solid #ccc;padding:1px\" src=\"http://t3.gstatic.com/images?q=tbn:ANd9GcRLr_fPd2RDVGBYUcmUJqiaRQoltFReNz_NYPcA_ymYmoVZyWML6Jo0Tek\"></a><font size=\"-1\"><br>Northern Cardinal | Audubon Field Guide<br>2400 &times; 1590 - 428k&nbsp;-&nbsp;jpg<br><font color=\"green\">audubon.org</font></font></td><td style=\"line-height:17px;padding-bottom:16px;width:25%;                    word-wrap:break-word\"><a href=\"/url?q=https://www.scitecheuropa.eu/a-birds-colour-could-effect-their-resistance-to-illnesses/96953/&amp;sa=U&amp;ved=0ahUKEwjl6ubI6PToAhUIH3AKHVk-DnkQqoUBCB4wCw&amp;usg=AOvVaw2LBqPALBecSfHtwBTGnFPv\"><img height=\"84\" width=\"150\" style=\"border:1px solid #ccc;padding:1px\" src=\"http://t0.gstatic.com/images?q=tbn:ANd9GcRkMuiHZ5Y2pfXDFe4SB4_MnuIQ6sYCzN9IrvKOIlGDBj3TBdlmmu0Hdhk\"></a><font size=\"-1\"><br>A <b>bird&#39;s</b> colour could effect their resistance to illnesses ...<br>1920 &times; 1080 - 131k&nbsp;-&nbsp;jpg<br><font color=\"green\">scitecheuropa.eu</font></font></td><tr><td style=\"line-height:17px;padding-bottom:16px;width:25%;                    word-wrap:break-word\"><a href=\"/url?q=https://www.startribune.com/the-science-and-history-of-why-some-birds-migrate/564037852/&amp;sa=U&amp;ved=0ahUKEwjl6ubI6PToAhUIH3AKHVk-DnkQqoUBCCAwDA&amp;usg=AOvVaw2A7SdCtPP_KacA1GimuSVu\"><img height=\"150\" width=\"111\" style=\"border:1px solid #ccc;padding:1px\" src=\"http://t1.gstatic.com/images?q=tbn:ANd9GcSmyqLuzJH_r9lDs6zpZ_C9YtqLyNCreCL2E3BussebYjjGfTLiWfkvbrF_\"></a><font size=\"-1\"><br>The science and history of why some <b>birds</b> migrate | Star Tribune<br>884 &times; 1193 - 477k&nbsp;-&nbsp;jpg<br><font color=\"green\">startribune.com</font></font></td><td style=\"line-height:17px;padding-bottom:16px;width:25%;                    word-wrap:break-word\"><a href=\"/url?q=https://www.medicalnewstoday.com/articles/327269&amp;sa=U&amp;ved=0ahUKEwjl6ubI6PToAhUIH3AKHVk-DnkQqoUBCCIwDQ&amp;usg=AOvVaw1GD7GKYaSOrpZLEg4WlOWT\"><img height=\"150\" width=\"100\" style=\"border:1px solid #ccc;padding:1px\" src=\"http://t2.gstatic.com/images?q=tbn:ANd9GcQKRU_BpXpRUHedhbJ3OoeX3ID9wuPVcwsdFtgy3sUIYh43W9TcaiO0ob0\"></a><font size=\"-1\"><br>Global warming may cause <b>birds</b> to shrink<br>800 &times; 1200 - 90k&nbsp;-&nbsp;jpg<br><font color=\"green\">medicalnewstoday.com</font></font></td><td style=\"line-height:17px;padding-bottom:16px;width:25%;                    word-wrap:break-word\"><a href=\"/url?q=https://www.hakaimagazine.com/news/how-to-count-a-billion-birds/&amp;sa=U&amp;ved=0ahUKEwjl6ubI6PToAhUIH3AKHVk-DnkQqoUBCCQwDg&amp;usg=AOvVaw2h-jX5gwZhEGBGlhDjcEut\"><img height=\"72\" width=\"150\" style=\"border:1px solid #ccc;padding:1px\" src=\"http://t3.gstatic.com/images?q=tbn:ANd9GcR7Ze5KZkh6_Xp928Ya-O2Aznr-4b5vc91kEvwOjqedmYSlJI-4qnrq97CF\"></a><font size=\"-1\"><br>How to Count a Billion <b>Birds</b> | Hakai Magazine<br>2500 &times; 1201 - 443k&nbsp;-&nbsp;jpg<br><font color=\"green\">hakaimagazine.com</font></font></td><td style=\"line-height:17px;padding-bottom:16px;width:25%;                    word-wrap:break-word\"><a href=\"/url?q=https://www.allaboutbirds.org/news/how-to-make-these-next-few-weeks-a-little-easier-courtesy-of-birds/&amp;sa=U&amp;ved=0ahUKEwjl6ubI6PToAhUIH3AKHVk-DnkQqoUBCCYwDw&amp;usg=AOvVaw2JhTatExqb9R0HRFgIf_Do\"><img height=\"100\" width=\"150\" style=\"border:1px solid #ccc;padding:1px\" src=\"http://t0.gstatic.com/images?q=tbn:ANd9GcQdtPmnMdA6T_TMQCmVVfNfpKUNuxJdVimFIvZa33YNAt5cMErxo9MutjG1\"></a><font size=\"-1\"><br>How to Make These Next Few Weeks a Little Easier, Courtesy of ...<br>1280 &times; 853 - 59k&nbsp;-&nbsp;jpg<br><font color=\"green\">allaboutbirds.org</font></font></td><tr><td style=\"line-height:17px;padding-bottom:16px;width:25%;                    word-wrap:break-word\"><a href=\"/url?q=https://phys.org/news/2019-10-native-bird-species-homes-day.html&amp;sa=U&amp;ved=0ahUKEwjl6ubI6PToAhUIH3AKHVk-DnkQqoUBCCgwEA&amp;usg=AOvVaw1mSktCYsE2zplDfz_ABTG9\"><img height=\"86\" width=\"143\" style=\"border:1px solid #ccc;padding:1px\" src=\"http://t1.gstatic.com/images?q=tbn:ANd9GcQwpSDrrlpCp4UOQNCNLF2nZ5r5coRbru62_b_CyEYGhhUBZ5JSyPWOYU8U\"></a><font size=\"-1\"><br>Most native <b>bird</b> species are losing their homes, even the ones you ...<br>800 &times; 480 - 24k&nbsp;-&nbsp;jpg<br><font color=\"green\">phys.org</font></font></td><td style=\"line-height:17px;padding-bottom:16px;width:25%;                    word-wrap:break-word\"><a href=\"/url?q=https://balkangreenenergynews.com/apps-helping-you-recognize-birds-plants-and-other-life-forms/&amp;sa=U&amp;ved=0ahUKEwjl6ubI6PToAhUIH3AKHVk-DnkQqoUBCCowEQ&amp;usg=AOvVaw0cMMkr5gdSCz_VBk2y_2R5\"><img height=\"73\" width=\"143\" style=\"border:1px solid #ccc;padding:1px\" src=\"http://t2.gstatic.com/images?q=tbn:ANd9GcR06FdFgHODQijHrrJ_Ch5QgIijcGJmWySBzUcybFh6KdEZ2b763wo9Pz1r\"></a><font size=\"-1\"><br>Apps helping you recognize <b>birds</b>, plants, and other life forms<br>795 &times; 407 - 27k&nbsp;-&nbsp;jpg<br><font color=\"green\">balkangreenenergynews.com</font></font></td><td style=\"line-height:17px;padding-bottom:16px;width:25%;                    word-wrap:break-word\"><a href=\"/url?q=https://www.thespruce.com/what-is-a-bird-385521&amp;sa=U&amp;ved=0ahUKEwjl6ubI6PToAhUIH3AKHVk-DnkQqoUBCCwwEg&amp;usg=AOvVaw2kXUi4eRl3WDH1WSAl0vqz\"><img height=\"100\" width=\"150\" style=\"border:1px solid #ccc;padding:1px\" src=\"http://t3.gstatic.com/images?q=tbn:ANd9GcRqUEVJn9PrPKBBmXyRK0Dem2TPH8E1E7JaK3pma_k0UDPF6mqpWbmajWOU\"></a><font size=\"-1\"><br>What Are <b>Birds</b>? - Defining Characteristics<br>1500 &times; 1000 - 139k&nbsp;-&nbsp;jpg<br><font color=\"green\">thespruce.com</font></font></td><td style=\"line-height:17px;padding-bottom:16px;width:25%;                    word-wrap:break-word\"><a href=\"/url?q=https://www.nature.com/articles/d41586-018-06688-4&amp;sa=U&amp;ved=0ahUKEwjl6ubI6PToAhUIH3AKHVk-DnkQqoUBCC4wEw&amp;usg=AOvVaw0CGJYY8EoGCWzybsOptIHv\"><img height=\"77\" width=\"143\" style=\"border:1px solid #ccc;padding:1px\" src=\"http://t0.gstatic.com/images?q=tbn:ANd9GcQzxADx7d5IgL78ARLj4e9zBAzwjFh-svxg__MvVXaqe8UhtyocbMBs4stv\"></a><font size=\"-1\"><br><b>Bird</b> forecasting by radar<br>800 &times; 431 - 35k&nbsp;-&nbsp;jpg<br><font color=\"green\">nature.com</font></font></td></table><br clear=\"all\"><table align=\"center\" border=\"0\" cellpadding=\"0\" cellspacing=\"0\"><tr valign=\"top\" align=\"center\"><td align=\"left\"><img border=\"0\" src=\"/images/branding/searchlogo/1x/googlelogo_tier_3_footer_g_color_18x26dp.gif\" width=\"18\" height=\"26\" alt=\"\"><br></td><td><img border=\"0\" src=\"/images/branding/searchlogo/1x/googlelogo_tier_3_footer_red_o_color_16x26dp.gif\" width=\"16\" height=\"26\" alt=\"\"><br><font size=\"-1\" color=\"#a90a08\"><b>1</b></font></td><td><a href=\"/search?q=bird&amp;biw=615&amp;bih=585&amp;ie=UTF-8&amp;tbm=isch&amp;ei=z2-cXqXHJYi-wAPZ_LjIBw&amp;start=20&amp;sa=N\"><img border=\"0\" src=\"/images/branding/searchlogo/1x/googlelogo_tier_3_footer_orange_o_color_16x26dp.gif\" width=\"16\" height=\"26\" alt=\"\"><br><font size=\"-1\" color=\"black\">2</font></a></td><td><a href=\"/search?q=bird&amp;biw=615&amp;bih=585&amp;ie=UTF-8&amp;tbm=isch&amp;ei=z2-cXqXHJYi-wAPZ_LjIBw&amp;start=40&amp;sa=N\"><img border=\"0\" src=\"/images/branding/searchlogo/1x/googlelogo_tier_3_footer_orange_o_color_16x26dp.gif\" width=\"16\" height=\"26\" alt=\"\"><br><font size=\"-1\" color=\"black\">3</font></a></td><td><a href=\"/search?q=bird&amp;biw=615&amp;bih=585&amp;ie=UTF-8&amp;tbm=isch&amp;ei=z2-cXqXHJYi-wAPZ_LjIBw&amp;start=60&amp;sa=N\"><img border=\"0\" src=\"/images/branding/searchlogo/1x/googlelogo_tier_3_footer_orange_o_color_16x26dp.gif\" width=\"16\" height=\"26\" alt=\"\"><br><font size=\"-1\" color=\"black\">4</font></a></td><td><a href=\"/search?q=bird&amp;biw=615&amp;bih=585&amp;ie=UTF-8&amp;tbm=isch&amp;ei=z2-cXqXHJYi-wAPZ_LjIBw&amp;start=80&amp;sa=N\"><img border=\"0\" src=\"/images/branding/searchlogo/1x/googlelogo_tier_3_footer_orange_o_color_16x26dp.gif\" width=\"16\" height=\"26\" alt=\"\"><br><font size=\"-1\" color=\"black\">5</font></a></td><td><a href=\"/search?q=bird&amp;biw=615&amp;bih=585&amp;ie=UTF-8&amp;tbm=isch&amp;ei=z2-cXqXHJYi-wAPZ_LjIBw&amp;start=100&amp;sa=N\"><img border=\"0\" src=\"/images/branding/searchlogo/1x/googlelogo_tier_3_footer_orange_o_color_16x26dp.gif\" width=\"16\" height=\"26\" alt=\"\"><br><font size=\"-1\" color=\"black\">6</font></a></td><td><a href=\"/search?q=bird&amp;biw=615&amp;bih=585&amp;ie=UTF-8&amp;tbm=isch&amp;ei=z2-cXqXHJYi-wAPZ_LjIBw&amp;start=120&amp;sa=N\"><img border=\"0\" src=\"/images/branding/searchlogo/1x/googlelogo_tier_3_footer_orange_o_color_16x26dp.gif\" width=\"16\" height=\"26\" alt=\"\"><br><font size=\"-1\" color=\"black\">7</font></a></td><td><a href=\"/search?q=bird&amp;biw=615&amp;bih=585&amp;ie=UTF-8&amp;tbm=isch&amp;ei=z2-cXqXHJYi-wAPZ_LjIBw&amp;start=140&amp;sa=N\"><img border=\"0\" src=\"/images/branding/searchlogo/1x/googlelogo_tier_3_footer_orange_o_color_16x26dp.gif\" width=\"16\" height=\"26\" alt=\"\"><br><font size=\"-1\" color=\"black\">8</font></a></td><td><a href=\"/search?q=bird&amp;biw=615&amp;bih=585&amp;ie=UTF-8&amp;tbm=isch&amp;ei=z2-cXqXHJYi-wAPZ_LjIBw&amp;start=160&amp;sa=N\"><img border=\"0\" src=\"/images/branding/searchlogo/1x/googlelogo_tier_3_footer_orange_o_color_16x26dp.gif\" width=\"16\" height=\"26\" alt=\"\"><br><font size=\"-1\" color=\"black\">9</font></a></td><td><a href=\"/search?q=bird&amp;biw=615&amp;bih=585&amp;ie=UTF-8&amp;tbm=isch&amp;ei=z2-cXqXHJYi-wAPZ_LjIBw&amp;start=180&amp;sa=N\"><img border=\"0\" src=\"/images/branding/searchlogo/1x/googlelogo_tier_3_footer_orange_o_color_16x26dp.gif\" width=\"16\" height=\"26\" alt=\"\"><br><font size=\"-1\" color=\"black\">10</font></a></td><td><a href=\"/search?q=bird&amp;biw=615&amp;bih=585&amp;ie=UTF-8&amp;tbm=isch&amp;ei=z2-cXqXHJYi-wAPZ_LjIBw&amp;start=20&amp;sa=N\"><img border=\"0\" src=\"/images/branding/searchlogo/1x/googlelogo_tier_3_footer_gle_with_chevron_color_100x26dp.gif\" width=\"100\" height=\"26\" alt=\"\"><br><strong>Next</strong></a></td></tr></table><br><table width=\"100%\" border=\"0\" cellpadding=\"0\" cellspacing=\"0\"><tr><td bgcolor=\"#3366CC\" height=\"1\"><img height=\"1\" width=\"1\" alt=\"\"></td></tr></table><table border=\"0\" cellpadding=\"8\" cellspacing=\"0\" align=\"center\" width=\"100%\" bgcolor=\"#d5ddf3\"><tr><td align=\"center\">&nbsp;<br><table border=\"0\" cellpadding=\"0\" cellspacing=\"0\" align=\"center\"><form method=\"GET\" action=\"/search\"><tr><td nowrap><font size=\"-1\"><input type=\"text\" name=\"q\" size=\"31\" maxlength=\"2048\" value=\"bird\" title=\"Search\"><input type=\"hidden\" name=\"sxsrf\" value=\"ALeKk01CtpHLqtaoWwG_fVq0qFLPwl2VXg:1587302572727\"><input type=\"hidden\" name=\"source\" value=\"lnms\"><input type=\"hidden\" name=\"tbm\" value=\"isch\"><input type=\"hidden\" name=\"sa\" value=\"X\"><input type=\"hidden\" name=\"ved\" value=\"2ahUKEwi7i_7vyvToAhVGWX0KHSRXBsYQ_AUoAXoECBkQAw\"><input type=\"hidden\" name=\"biw\" value=\"615\"><input type=\"hidden\" name=\"bih\" value=\"585\"><input type=\"submit\" name=\"btnG\" value=\"Search\"></font></td></tr></form></table><br><font size=\"-1\"><nobr><a href=\"/intl/en/help.html\">Search&#160;Tips</a></nobr></font></td></tr><tr><td><img height=\"1\" width=\"1\" alt=\"\"></td></tr></table><table width=\"100%\" border=\"0\" cellpadding=\"0\" cellspacing=\"0\"><tr><td bgcolor=\"#3366CC\" height=\"1\"><img height=\"1\" width=\"1\" alt=\"\"></td></tr></table><center><p></p><table border=\"0\" cellpadding=\"2\" cellspacing=\"0\"><tr><td><font size=\"-1\">&#169;2019 Google&nbsp;-&nbsp;<a href=\"/\">Google&#160;Home</a></font></td></tr></table></center></body></html>\n",
            "200\n"
          ],
          "name": "stdout"
        }
      ]
    },
    {
      "cell_type": "code",
      "metadata": {
        "id": "jrA1IfkCmlDo",
        "colab_type": "code",
        "colab": {
          "base_uri": "https://localhost:8080/",
          "height": 67
        },
        "outputId": "5cee1138-7487-42cb-be8d-e16cacf401bb"
      },
      "source": [
        "#lets take a list and work with it\n",
        "l = [1,2,3,4,56,8]\n",
        "print(l)\n",
        "\n",
        "del l[4]\n",
        "print(l)\n",
        "\n",
        "print()"
      ],
      "execution_count": 41,
      "outputs": [
        {
          "output_type": "stream",
          "text": [
            "[1, 2, 3, 4, 56, 8]\n",
            "[1, 2, 3, 4, 8]\n",
            "\n"
          ],
          "name": "stdout"
        }
      ]
    },
    {
      "cell_type": "code",
      "metadata": {
        "id": "zo7LzxWJoBn-",
        "colab_type": "code",
        "colab": {
          "base_uri": "https://localhost:8080/",
          "height": 34
        },
        "outputId": "0e23c8e3-b5e2-48ef-b454-930b83d3923e"
      },
      "source": [
        "print(not True)"
      ],
      "execution_count": 42,
      "outputs": [
        {
          "output_type": "stream",
          "text": [
            "False\n"
          ],
          "name": "stdout"
        }
      ]
    },
    {
      "cell_type": "code",
      "metadata": {
        "id": "6UrmZju-sFDX",
        "colab_type": "code",
        "colab": {
          "base_uri": "https://localhost:8080/",
          "height": 162
        },
        "outputId": "ca5edf6d-ac3c-43a1-8a8d-81da2049f76d"
      },
      "source": [
        "assert 5>6 , '5 is not greater than 6'"
      ],
      "execution_count": 44,
      "outputs": [
        {
          "output_type": "error",
          "ename": "AssertionError",
          "evalue": "ignored",
          "traceback": [
            "\u001b[0;31m---------------------------------------------------------------------------\u001b[0m",
            "\u001b[0;31mAssertionError\u001b[0m                            Traceback (most recent call last)",
            "\u001b[0;32m<ipython-input-44-b72516d815e4>\u001b[0m in \u001b[0;36m<module>\u001b[0;34m()\u001b[0m\n\u001b[0;32m----> 1\u001b[0;31m \u001b[0;32massert\u001b[0m \u001b[0;36m5\u001b[0m\u001b[0;34m>\u001b[0m\u001b[0;36m6\u001b[0m \u001b[0;34m,\u001b[0m \u001b[0;34m'5 is not greater than 6'\u001b[0m\u001b[0;34m\u001b[0m\u001b[0;34m\u001b[0m\u001b[0m\n\u001b[0m",
            "\u001b[0;31mAssertionError\u001b[0m: 5 is not greater than 6"
          ]
        }
      ]
    },
    {
      "cell_type": "code",
      "metadata": {
        "id": "w_l3aoV8sO3b",
        "colab_type": "code",
        "colab": {}
      },
      "source": [
        "print?"
      ],
      "execution_count": 0,
      "outputs": []
    },
    {
      "cell_type": "code",
      "metadata": {
        "id": "mdMuYZ_5uUlk",
        "colab_type": "code",
        "colab": {
          "base_uri": "https://localhost:8080/",
          "height": 34
        },
        "outputId": "d40b884a-aab2-4edb-d40f-5483ac373983"
      },
      "source": [
        "id(var)"
      ],
      "execution_count": 56,
      "outputs": [
        {
          "output_type": "execute_result",
          "data": {
            "text/plain": [
              "10915872"
            ]
          },
          "metadata": {
            "tags": []
          },
          "execution_count": 56
        }
      ]
    },
    {
      "cell_type": "code",
      "metadata": {
        "id": "dO1v5__tuW8b",
        "colab_type": "code",
        "colab": {}
      },
      "source": [
        "import requests\n",
        "\n",
        "requests.get?"
      ],
      "execution_count": 0,
      "outputs": []
    },
    {
      "cell_type": "code",
      "metadata": {
        "id": "ebwYpkUouadn",
        "colab_type": "code",
        "colab": {
          "base_uri": "https://localhost:8080/",
          "height": 128
        },
        "outputId": "a97bd719-b1ec-4316-f03f-7c4494c0fd1e"
      },
      "source": [
        "a = 55\n",
        "\n",
        "def func():\n",
        "    nonlocal a\n",
        "    a =44\n",
        "\n",
        "func()\n",
        "print(a)"
      ],
      "execution_count": 58,
      "outputs": [
        {
          "output_type": "error",
          "ename": "SyntaxError",
          "evalue": "ignored",
          "traceback": [
            "\u001b[0;36m  File \u001b[0;32m\"<ipython-input-58-cb0412d3ffb7>\"\u001b[0;36m, line \u001b[0;32m4\u001b[0m\n\u001b[0;31m    nonlocal a\u001b[0m\n\u001b[0m    ^\u001b[0m\n\u001b[0;31mSyntaxError\u001b[0m\u001b[0;31m:\u001b[0m no binding for nonlocal 'a' found\n"
          ]
        }
      ]
    },
    {
      "cell_type": "code",
      "metadata": {
        "id": "w4HzvEgouyja",
        "colab_type": "code",
        "colab": {
          "base_uri": "https://localhost:8080/",
          "height": 34
        },
        "outputId": "bc00203f-c59c-4df3-82c7-bdeb5dc8d71a"
      },
      "source": [
        "n ='nayeem' ; m='none'\n",
        "print(n,m)"
      ],
      "execution_count": 60,
      "outputs": [
        {
          "output_type": "stream",
          "text": [
            "nayeem none\n"
          ],
          "name": "stdout"
        }
      ]
    },
    {
      "cell_type": "code",
      "metadata": {
        "id": "Fx2TuhP_vJ3G",
        "colab_type": "code",
        "colab": {
          "base_uri": "https://localhost:8080/",
          "height": 34
        },
        "outputId": "f2f6da83-6026-4859-f8fe-d60a9dbcb308"
      },
      "source": [
        "\"\"\"multiline comment\"\"\"\n",
        "print(var)"
      ],
      "execution_count": 61,
      "outputs": [
        {
          "output_type": "stream",
          "text": [
            "44\n"
          ],
          "name": "stdout"
        }
      ]
    },
    {
      "cell_type": "code",
      "metadata": {
        "id": "i0chg_bqv4Aq",
        "colab_type": "code",
        "colab": {
          "base_uri": "https://localhost:8080/",
          "height": 34
        },
        "outputId": "b698ad14-a0a3-4232-effe-4e57393f428e"
      },
      "source": [
        "l =[1,2,4,5,6,7,8,9,76,5,4]\n",
        "print(l[:3])"
      ],
      "execution_count": 62,
      "outputs": [
        {
          "output_type": "stream",
          "text": [
            "[1, 2, 4]\n"
          ],
          "name": "stdout"
        }
      ]
    },
    {
      "cell_type": "code",
      "metadata": {
        "id": "wYWZTD78wKhr",
        "colab_type": "code",
        "colab": {
          "base_uri": "https://localhost:8080/",
          "height": 67
        },
        "outputId": "f0d5c276-703d-4db2-d574-b3d5fa79843b"
      },
      "source": [
        "a = 4\n",
        "b = 4\n",
        "\n",
        "print(a is b)\n",
        "print(id(a))\n",
        "print(id(b))"
      ],
      "execution_count": 63,
      "outputs": [
        {
          "output_type": "stream",
          "text": [
            "True\n",
            "10914592\n",
            "10914592\n"
          ],
          "name": "stdout"
        }
      ]
    },
    {
      "cell_type": "code",
      "metadata": {
        "id": "GmmgzDVpxL-c",
        "colab_type": "code",
        "colab": {
          "base_uri": "https://localhost:8080/",
          "height": 67
        },
        "outputId": "113263ab-3562-4072-e320-66c5b3bc73b5"
      },
      "source": [
        "a = 4\n",
        "b = 46\n",
        "\n",
        "print(a is b)\n",
        "print(id(a))\n",
        "print(id(b))"
      ],
      "execution_count": 64,
      "outputs": [
        {
          "output_type": "stream",
          "text": [
            "False\n",
            "10914592\n",
            "10915936\n"
          ],
          "name": "stdout"
        }
      ]
    },
    {
      "cell_type": "code",
      "metadata": {
        "id": "1JJXxSiexW3N",
        "colab_type": "code",
        "colab": {
          "base_uri": "https://localhost:8080/",
          "height": 67
        },
        "outputId": "10c661a2-f2ee-4216-f5ce-fd988527d08d"
      },
      "source": [
        "a = [2,3,4,5,6]\n",
        "b = 4\n",
        "\n",
        "print(id(a))\n",
        "print(id(b))\n",
        "aa = b in a\n",
        "print(aa)"
      ],
      "execution_count": 65,
      "outputs": [
        {
          "output_type": "stream",
          "text": [
            "139990981593864\n",
            "10914592\n",
            "True\n"
          ],
          "name": "stdout"
        }
      ]
    },
    {
      "cell_type": "code",
      "metadata": {
        "id": "6qLcf6hExZjS",
        "colab_type": "code",
        "colab": {
          "base_uri": "https://localhost:8080/",
          "height": 34
        },
        "outputId": "220579b3-6b3c-4097-88e9-05abbcf78c25"
      },
      "source": [
        "print(5>4)"
      ],
      "execution_count": 66,
      "outputs": [
        {
          "output_type": "stream",
          "text": [
            "True\n"
          ],
          "name": "stdout"
        }
      ]
    },
    {
      "cell_type": "code",
      "metadata": {
        "id": "n3v31lNaybnk",
        "colab_type": "code",
        "colab": {
          "base_uri": "https://localhost:8080/",
          "height": 202
        },
        "outputId": "11ee3f5f-9294-43de-ffa8-a9e1eb8da5a6"
      },
      "source": [
        "import keyword\n",
        "\n",
        "keys = [\"for\", \"while\", \"tanisha\", \"break\", \"sky\", \n",
        "\"elif\", \"assert\", \"pulkit\", \"lambda\", \"else\", \"sakshar\"] \n",
        "\n",
        "for i in range(len(keys)):\n",
        "    if  keyword.iskeyword(keys[i]):\n",
        "        print(keys[i],\" is a python keyword package\")\n",
        "    else:\n",
        "        print(keys[i],\" isnot a python keyword package\")"
      ],
      "execution_count": 67,
      "outputs": [
        {
          "output_type": "stream",
          "text": [
            "for  is a python keyword package\n",
            "while  is a python keyword package\n",
            "tanisha  isnot a python keyword package\n",
            "break  is a python keyword package\n",
            "sky  isnot a python keyword package\n",
            "elif  is a python keyword package\n",
            "assert  is a python keyword package\n",
            "pulkit  isnot a python keyword package\n",
            "lambda  is a python keyword package\n",
            "else  is a python keyword package\n",
            "sakshar  isnot a python keyword package\n"
          ],
          "name": "stdout"
        }
      ]
    },
    {
      "cell_type": "code",
      "metadata": {
        "id": "oZSCoSsozczz",
        "colab_type": "code",
        "colab": {
          "base_uri": "https://localhost:8080/",
          "height": 70
        },
        "outputId": "b31cb8cb-53bb-4be7-83f5-2563424354f5"
      },
      "source": [
        "print(\"The lsit of python keywords are : \",end=\"\\n\")\n",
        "print(keyword.kwlist, end =\"\\n\")"
      ],
      "execution_count": 68,
      "outputs": [
        {
          "output_type": "stream",
          "text": [
            "The lsit of python keywords are : \n",
            "['False', 'None', 'True', 'and', 'as', 'assert', 'break', 'class', 'continue', 'def', 'del', 'elif', 'else', 'except', 'finally', 'for', 'from', 'global', 'if', 'import', 'in', 'is', 'lambda', 'nonlocal', 'not', 'or', 'pass', 'raise', 'return', 'try', 'while', 'with', 'yield']\n"
          ],
          "name": "stdout"
        }
      ]
    },
    {
      "cell_type": "code",
      "metadata": {
        "id": "1yTTQIFvz94H",
        "colab_type": "code",
        "colab": {
          "base_uri": "https://localhost:8080/",
          "height": 403
        },
        "outputId": "fbf5d736-446a-4891-c61e-533be41f83ec"
      },
      "source": [
        "print(\"BASIC CALCULATOR :\")\n",
        "\n",
        "def cal():\n",
        "        \n",
        "    def sum(n,nn):\n",
        "        return n+nn\n",
        "\n",
        "    def sub(n,nn):\n",
        "        return n-nn\n",
        "\n",
        "    def mul(n,nn):\n",
        "        return n*nn\n",
        "\n",
        "    def div(n,nn):\n",
        "        if n>nn:\n",
        "            return n/nn\n",
        "        else:\n",
        "            return nn/n\n",
        "\n",
        "    n = float(input(\"Enter number 1 : \"))\n",
        "    nn = float(input(\"Enter number 2 : \"))\n",
        "\n",
        "    print(\"For sum operation input number 1 : \\nFor subtraction operation input number 2 : \\nFor Multiplication operation input number 3 : \\nFor Division operation input number 4 : \")\n",
        "    op = int(input())\n",
        "\n",
        "\n",
        "    if op == 1:\n",
        "        print(sum(n,nn))\n",
        "    elif op ==2:\n",
        "        print(sub(n,nn))\n",
        "    elif op ==3:\n",
        "        print(mul(n,nn))\n",
        "    elif op ==4:\n",
        "        print(div(n,nn))\n",
        "    else:\n",
        "        print(\"Enter valid input and try again\")\n",
        "\n",
        "    print(\"Thanks for using basic calculator\")\n",
        "    m = int(input(\"Want to use calculator again? press 1 for YES, 0 for NO : \"))\n",
        "        \n",
        "    if m == 1:\n",
        "        cal()\n",
        "    else :\n",
        "        print(\"Thanks for using the calculator\")\n",
        "\n",
        "n = int(input(\"Want to use calculator? press 1 for YES, 0 for NO : \"))\n",
        "if n == 1:\n",
        "    cal()\n",
        "else :\n",
        "    print(\"Thanks coming this portal \")"
      ],
      "execution_count": 73,
      "outputs": [
        {
          "output_type": "stream",
          "text": [
            "BASIC CALCULATOR :\n",
            "Want to use calculator? press 1 for YES, 0 for NO : 1\n",
            "Enter number 1 : 55\n",
            "Enter number 2 : 6\n",
            "For sum operation input number 1 : \n",
            "For subtraction operation input number 2 : \n",
            "For Multiplication operation input number 3 : \n",
            "For Division operation input number 4 : \n",
            "4\n",
            "9.166666666666666\n",
            "Thanks for using basic calculator\n",
            "Want to use calculator again? press 1 for YES, 0 for NO : 1\n",
            "Enter number 1 : 685\n",
            "Enter number 2 : 896\n",
            "For sum operation input number 1 : \n",
            "For subtraction operation input number 2 : \n",
            "For Multiplication operation input number 3 : \n",
            "For Division operation input number 4 : \n",
            "3\n",
            "613760.0\n",
            "Thanks for using basic calculator\n",
            "Want to use calculator again? press 1 for YES, 0 for NO : 0\n",
            "Thanks for using the calculator\n"
          ],
          "name": "stdout"
        }
      ]
    },
    {
      "cell_type": "code",
      "metadata": {
        "id": "4OXMHsbG2Hr4",
        "colab_type": "code",
        "colab": {
          "base_uri": "https://localhost:8080/",
          "height": 386
        },
        "outputId": "770d1762-4e5a-43df-9b27-949f9a4ead9d"
      },
      "source": [
        "print(\"BASIC CALCULATOR :\")\n",
        "\n",
        "def cal():\n",
        "        \n",
        "    def sum(n,nn):\n",
        "        return n+nn\n",
        "\n",
        "    def sub(n,nn):\n",
        "        return n-nn\n",
        "\n",
        "    def mul(n,nn):\n",
        "        return n*nn\n",
        "\n",
        "    def div(n,nn):\n",
        "        if n>nn:\n",
        "            return n/nn\n",
        "        else:\n",
        "            return nn/n\n",
        "\n",
        "    n = float(input(\"Enter number 1 : \"))\n",
        "    nn = float(input(\"Enter number 2 : \"))\n",
        "\n",
        "    print(\"For sum operation input number 1 : \\nFor subtraction operation input number 2 : \\nFor Multiplication operation input number 3 : \\nFor Division operation input number 4 : \")\n",
        "    op = int(input())\n",
        "\n",
        "\n",
        "    if op == 1:\n",
        "        print(sum(n,nn))\n",
        "    elif op ==2:\n",
        "        print(sub(n,nn))\n",
        "    elif op ==3:\n",
        "        print(mul(n,nn))\n",
        "    elif op ==4:\n",
        "        print(div(n,nn))\n",
        "    else:\n",
        "        print(\"Enter valid input and try again\")\n",
        "    repeat()\n",
        "    \n",
        "\n",
        "\n",
        "m = int(input(\"Want to use calculator? press 1 for YES, 0 for NO : \"))\n",
        "if m == 1:\n",
        "    cal()\n",
        "else :\n",
        "    print(\"Thanks for coming in this portal \")\n",
        "\n",
        "def repeat():\n",
        "    msg = int(input(\"Want to use calculator again? press 1 for YES, 0 for NO : \"))\n",
        "    if msg == 1:\n",
        "        cal()\n",
        "    else :\n",
        "        print(\"Thanks for using the calculator\")\n",
        "print(\"Have a good day !\")"
      ],
      "execution_count": 76,
      "outputs": [
        {
          "output_type": "stream",
          "text": [
            "BASIC CALCULATOR :\n",
            "Want to use calculator? press 1 for YES, 0 for NO : 1\n",
            "Enter number 1 : 65\n",
            "Enter number 2 : 56\n",
            "For sum operation input number 1 : \n",
            "For subtraction operation input number 2 : \n",
            "For Multiplication operation input number 3 : \n",
            "For Division operation input number 4 : \n",
            "3\n",
            "3640.0\n",
            "Want to use calculator again? press 1 for YES, 0 for NO : 1\n",
            "Enter number 1 : 5657\n",
            "Enter number 2 : 32\n",
            "For sum operation input number 1 : \n",
            "For subtraction operation input number 2 : \n",
            "For Multiplication operation input number 3 : \n",
            "For Division operation input number 4 : \n",
            "4\n",
            "176.78125\n",
            "Want to use calculator again? press 1 for YES, 0 for NO : 0\n",
            "Thanks for using the calculator\n",
            "Have a good day !\n"
          ],
          "name": "stdout"
        }
      ]
    },
    {
      "cell_type": "code",
      "metadata": {
        "id": "J6GUwkIy3e5-",
        "colab_type": "code",
        "colab": {}
      },
      "source": [
        "1\n"
      ],
      "execution_count": 0,
      "outputs": []
    }
  ]
}